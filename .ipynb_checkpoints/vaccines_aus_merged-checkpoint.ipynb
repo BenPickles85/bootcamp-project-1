{
 "cells": [
  {
   "cell_type": "code",
   "execution_count": 1,
   "id": "966dbfde",
   "metadata": {},
   "outputs": [],
   "source": [
    "import pandas as pd\n",
    "import matplotlib.pyplot as plt\n",
    "import scipy.stats as st\n",
    "from scipy.stats import linregress\n",
    "import datetime as dt\n",
    "\n",
    "# Australian Data\n",
    "aus_file = pd.read_csv (r'Resources/Australian Vaccinations.txt')\n",
    "aus_file.to_csv (r'Resources/Australian Vaccinations.csv', index=None)\n",
    "\n",
    "# USA Data\n",
    "usa_file = pd.read_csv (r'Resources/USA Vaccinations.txt')\n",
    "usa_file.to_csv (r'Resources/USA Vaccinations.csv', index=None)\n",
    "\n",
    "# South Korea Data\n",
    "skr_file = pd.read_csv (r'Resources/South Korea Vaccinations.txt')\n",
    "skr_file.to_csv (r'Resources/South Korea Vaccinations.csv', index=None)\n"
   ]
  },
  {
   "cell_type": "code",
   "execution_count": 2,
   "id": "af164941",
   "metadata": {},
   "outputs": [],
   "source": [
    "# Drop columns\n",
    "aus_df = aus_file[aus_file['total_vaccinations'] > 0].reset_index( drop = True)\n",
    "aus_df = aus_df.drop(columns=['source_url', 'total_boosters'])\n",
    "\n",
    "usa_df = usa_file[usa_file['total_vaccinations'] > 0].reset_index( drop = True)\n",
    "usa_df = usa_df.drop(columns=['source_url', 'total_boosters'])\n",
    "\n",
    "skr_df = skr_file[skr_file['total_vaccinations'] > 0].reset_index( drop = True)\n",
    "skr_df = skr_df.drop(columns=['source_url', 'total_boosters'])"
   ]
  },
  {
   "cell_type": "code",
   "execution_count": 3,
   "id": "5d38e3db",
   "metadata": {},
   "outputs": [
    {
     "data": {
      "text/html": [
       "<div>\n",
       "<style scoped>\n",
       "    .dataframe tbody tr th:only-of-type {\n",
       "        vertical-align: middle;\n",
       "    }\n",
       "\n",
       "    .dataframe tbody tr th {\n",
       "        vertical-align: top;\n",
       "    }\n",
       "\n",
       "    .dataframe thead th {\n",
       "        text-align: right;\n",
       "    }\n",
       "</style>\n",
       "<table border=\"1\" class=\"dataframe\">\n",
       "  <thead>\n",
       "    <tr style=\"text-align: right;\">\n",
       "      <th></th>\n",
       "      <th>date</th>\n",
       "      <th>total_vaccinations</th>\n",
       "      <th>people_fully_vaccinated</th>\n",
       "      <th>people_vaccinated</th>\n",
       "      <th>vaccine</th>\n",
       "      <th>location</th>\n",
       "    </tr>\n",
       "  </thead>\n",
       "  <tbody>\n",
       "    <tr>\n",
       "      <th>0</th>\n",
       "      <td>2021-05-24</td>\n",
       "      <td>3613053</td>\n",
       "      <td>416293.0</td>\n",
       "      <td>3196760.0</td>\n",
       "      <td>Oxford/AstraZeneca, Pfizer/BioNTech</td>\n",
       "      <td>Australia</td>\n",
       "    </tr>\n",
       "    <tr>\n",
       "      <th>1</th>\n",
       "      <td>2021-05-25</td>\n",
       "      <td>3690622</td>\n",
       "      <td>419237.0</td>\n",
       "      <td>3271385.0</td>\n",
       "      <td>Oxford/AstraZeneca, Pfizer/BioNTech</td>\n",
       "      <td>Australia</td>\n",
       "    </tr>\n",
       "    <tr>\n",
       "      <th>2</th>\n",
       "      <td>2021-05-26</td>\n",
       "      <td>3795280</td>\n",
       "      <td>472882.0</td>\n",
       "      <td>3322398.0</td>\n",
       "      <td>Oxford/AstraZeneca, Pfizer/BioNTech</td>\n",
       "      <td>Australia</td>\n",
       "    </tr>\n",
       "    <tr>\n",
       "      <th>3</th>\n",
       "      <td>2021-05-27</td>\n",
       "      <td>3906668</td>\n",
       "      <td>481681.0</td>\n",
       "      <td>3424987.0</td>\n",
       "      <td>Oxford/AstraZeneca, Pfizer/BioNTech</td>\n",
       "      <td>Australia</td>\n",
       "    </tr>\n",
       "    <tr>\n",
       "      <th>4</th>\n",
       "      <td>2021-05-28</td>\n",
       "      <td>4031539</td>\n",
       "      <td>491319.0</td>\n",
       "      <td>3540220.0</td>\n",
       "      <td>Oxford/AstraZeneca, Pfizer/BioNTech</td>\n",
       "      <td>Australia</td>\n",
       "    </tr>\n",
       "    <tr>\n",
       "      <th>...</th>\n",
       "      <td>...</td>\n",
       "      <td>...</td>\n",
       "      <td>...</td>\n",
       "      <td>...</td>\n",
       "      <td>...</td>\n",
       "      <td>...</td>\n",
       "    </tr>\n",
       "    <tr>\n",
       "      <th>105</th>\n",
       "      <td>2021-09-13</td>\n",
       "      <td>22802573</td>\n",
       "      <td>8711193.0</td>\n",
       "      <td>14091380.0</td>\n",
       "      <td>Oxford/AstraZeneca, Pfizer/BioNTech</td>\n",
       "      <td>Australia</td>\n",
       "    </tr>\n",
       "    <tr>\n",
       "      <th>106</th>\n",
       "      <td>2021-09-14</td>\n",
       "      <td>23078749</td>\n",
       "      <td>8852319.0</td>\n",
       "      <td>14226430.0</td>\n",
       "      <td>Oxford/AstraZeneca, Pfizer/BioNTech</td>\n",
       "      <td>Australia</td>\n",
       "    </tr>\n",
       "    <tr>\n",
       "      <th>107</th>\n",
       "      <td>2021-09-15</td>\n",
       "      <td>23362740</td>\n",
       "      <td>8995310.0</td>\n",
       "      <td>14367430.0</td>\n",
       "      <td>Oxford/AstraZeneca, Pfizer/BioNTech</td>\n",
       "      <td>Australia</td>\n",
       "    </tr>\n",
       "    <tr>\n",
       "      <th>108</th>\n",
       "      <td>2021-09-16</td>\n",
       "      <td>23751922</td>\n",
       "      <td>9142725.0</td>\n",
       "      <td>14609197.0</td>\n",
       "      <td>Oxford/AstraZeneca, Pfizer/BioNTech</td>\n",
       "      <td>Australia</td>\n",
       "    </tr>\n",
       "    <tr>\n",
       "      <th>109</th>\n",
       "      <td>2021-09-17</td>\n",
       "      <td>24054063</td>\n",
       "      <td>9285348.0</td>\n",
       "      <td>14768715.0</td>\n",
       "      <td>Oxford/AstraZeneca, Pfizer/BioNTech</td>\n",
       "      <td>Australia</td>\n",
       "    </tr>\n",
       "  </tbody>\n",
       "</table>\n",
       "<p>110 rows × 6 columns</p>\n",
       "</div>"
      ],
      "text/plain": [
       "           date  total_vaccinations  people_fully_vaccinated  \\\n",
       "0    2021-05-24             3613053                 416293.0   \n",
       "1    2021-05-25             3690622                 419237.0   \n",
       "2    2021-05-26             3795280                 472882.0   \n",
       "3    2021-05-27             3906668                 481681.0   \n",
       "4    2021-05-28             4031539                 491319.0   \n",
       "..          ...                 ...                      ...   \n",
       "105  2021-09-13            22802573                8711193.0   \n",
       "106  2021-09-14            23078749                8852319.0   \n",
       "107  2021-09-15            23362740                8995310.0   \n",
       "108  2021-09-16            23751922                9142725.0   \n",
       "109  2021-09-17            24054063                9285348.0   \n",
       "\n",
       "     people_vaccinated                              vaccine   location  \n",
       "0            3196760.0  Oxford/AstraZeneca, Pfizer/BioNTech  Australia  \n",
       "1            3271385.0  Oxford/AstraZeneca, Pfizer/BioNTech  Australia  \n",
       "2            3322398.0  Oxford/AstraZeneca, Pfizer/BioNTech  Australia  \n",
       "3            3424987.0  Oxford/AstraZeneca, Pfizer/BioNTech  Australia  \n",
       "4            3540220.0  Oxford/AstraZeneca, Pfizer/BioNTech  Australia  \n",
       "..                 ...                                  ...        ...  \n",
       "105         14091380.0  Oxford/AstraZeneca, Pfizer/BioNTech  Australia  \n",
       "106         14226430.0  Oxford/AstraZeneca, Pfizer/BioNTech  Australia  \n",
       "107         14367430.0  Oxford/AstraZeneca, Pfizer/BioNTech  Australia  \n",
       "108         14609197.0  Oxford/AstraZeneca, Pfizer/BioNTech  Australia  \n",
       "109         14768715.0  Oxford/AstraZeneca, Pfizer/BioNTech  Australia  \n",
       "\n",
       "[110 rows x 6 columns]"
      ]
     },
     "execution_count": 3,
     "metadata": {},
     "output_type": "execute_result"
    }
   ],
   "source": [
    "# Second Australian Data for partial/full vaccination data\n",
    "aus_df2 = aus_df[aus_df['people_fully_vaccinated'] > 0].reset_index(drop = True)\n",
    "aus_df2"
   ]
  },
  {
   "cell_type": "code",
   "execution_count": 4,
   "id": "a0c3e83d",
   "metadata": {},
   "outputs": [
    {
     "data": {
      "text/html": [
       "<div>\n",
       "<style scoped>\n",
       "    .dataframe tbody tr th:only-of-type {\n",
       "        vertical-align: middle;\n",
       "    }\n",
       "\n",
       "    .dataframe tbody tr th {\n",
       "        vertical-align: top;\n",
       "    }\n",
       "\n",
       "    .dataframe thead th {\n",
       "        text-align: right;\n",
       "    }\n",
       "</style>\n",
       "<table border=\"1\" class=\"dataframe\">\n",
       "  <thead>\n",
       "    <tr style=\"text-align: right;\">\n",
       "      <th></th>\n",
       "      <th>date</th>\n",
       "      <th>total_vaccinations_aus</th>\n",
       "      <th>people_fully_vaccinated_aus</th>\n",
       "      <th>people_vaccinated_aus</th>\n",
       "      <th>total_vaccinations_us</th>\n",
       "      <th>people_vaccinated_us</th>\n",
       "      <th>people_fully_vaccinated_us</th>\n",
       "    </tr>\n",
       "  </thead>\n",
       "  <tbody>\n",
       "    <tr>\n",
       "      <th>0</th>\n",
       "      <td>2021-02-22</td>\n",
       "      <td>20</td>\n",
       "      <td>0.0</td>\n",
       "      <td>20.0</td>\n",
       "      <td>64177474</td>\n",
       "      <td>44138118.0</td>\n",
       "      <td>19438495.0</td>\n",
       "    </tr>\n",
       "    <tr>\n",
       "      <th>1</th>\n",
       "      <td>2021-02-23</td>\n",
       "      <td>2879</td>\n",
       "      <td>0.0</td>\n",
       "      <td>2879.0</td>\n",
       "      <td>65032083</td>\n",
       "      <td>44544969.0</td>\n",
       "      <td>19882544.0</td>\n",
       "    </tr>\n",
       "    <tr>\n",
       "      <th>2</th>\n",
       "      <td>2021-02-24</td>\n",
       "      <td>6908</td>\n",
       "      <td>0.0</td>\n",
       "      <td>6908.0</td>\n",
       "      <td>66464947</td>\n",
       "      <td>45237143.0</td>\n",
       "      <td>20607261.0</td>\n",
       "    </tr>\n",
       "    <tr>\n",
       "      <th>3</th>\n",
       "      <td>2021-02-25</td>\n",
       "      <td>17500</td>\n",
       "      <td>0.0</td>\n",
       "      <td>17500.0</td>\n",
       "      <td>68274117</td>\n",
       "      <td>46074392.0</td>\n",
       "      <td>21555117.0</td>\n",
       "    </tr>\n",
       "    <tr>\n",
       "      <th>4</th>\n",
       "      <td>2021-02-26</td>\n",
       "      <td>25000</td>\n",
       "      <td>0.0</td>\n",
       "      <td>25000.0</td>\n",
       "      <td>70454064</td>\n",
       "      <td>47184199.0</td>\n",
       "      <td>22613359.0</td>\n",
       "    </tr>\n",
       "    <tr>\n",
       "      <th>...</th>\n",
       "      <td>...</td>\n",
       "      <td>...</td>\n",
       "      <td>...</td>\n",
       "      <td>...</td>\n",
       "      <td>...</td>\n",
       "      <td>...</td>\n",
       "      <td>...</td>\n",
       "    </tr>\n",
       "    <tr>\n",
       "      <th>192</th>\n",
       "      <td>2021-09-13</td>\n",
       "      <td>22802573</td>\n",
       "      <td>8711193.0</td>\n",
       "      <td>14091380.0</td>\n",
       "      <td>380831725</td>\n",
       "      <td>209701005.0</td>\n",
       "      <td>178982950.0</td>\n",
       "    </tr>\n",
       "    <tr>\n",
       "      <th>193</th>\n",
       "      <td>2021-09-14</td>\n",
       "      <td>23078749</td>\n",
       "      <td>8852319.0</td>\n",
       "      <td>14226430.0</td>\n",
       "      <td>381453265</td>\n",
       "      <td>209982936.0</td>\n",
       "      <td>179289983.0</td>\n",
       "    </tr>\n",
       "    <tr>\n",
       "      <th>194</th>\n",
       "      <td>2021-09-15</td>\n",
       "      <td>23362740</td>\n",
       "      <td>8995310.0</td>\n",
       "      <td>14367430.0</td>\n",
       "      <td>382294795</td>\n",
       "      <td>210361099.0</td>\n",
       "      <td>179695287.0</td>\n",
       "    </tr>\n",
       "    <tr>\n",
       "      <th>195</th>\n",
       "      <td>2021-09-16</td>\n",
       "      <td>23751922</td>\n",
       "      <td>9142725.0</td>\n",
       "      <td>14609197.0</td>\n",
       "      <td>383038403</td>\n",
       "      <td>210700361.0</td>\n",
       "      <td>180086143.0</td>\n",
       "    </tr>\n",
       "    <tr>\n",
       "      <th>196</th>\n",
       "      <td>2021-09-17</td>\n",
       "      <td>24054063</td>\n",
       "      <td>9285348.0</td>\n",
       "      <td>14768715.0</td>\n",
       "      <td>383994877</td>\n",
       "      <td>211097597.0</td>\n",
       "      <td>180572171.0</td>\n",
       "    </tr>\n",
       "  </tbody>\n",
       "</table>\n",
       "<p>197 rows × 7 columns</p>\n",
       "</div>"
      ],
      "text/plain": [
       "           date  total_vaccinations_aus  people_fully_vaccinated_aus  \\\n",
       "0    2021-02-22                      20                          0.0   \n",
       "1    2021-02-23                    2879                          0.0   \n",
       "2    2021-02-24                    6908                          0.0   \n",
       "3    2021-02-25                   17500                          0.0   \n",
       "4    2021-02-26                   25000                          0.0   \n",
       "..          ...                     ...                          ...   \n",
       "192  2021-09-13                22802573                    8711193.0   \n",
       "193  2021-09-14                23078749                    8852319.0   \n",
       "194  2021-09-15                23362740                    8995310.0   \n",
       "195  2021-09-16                23751922                    9142725.0   \n",
       "196  2021-09-17                24054063                    9285348.0   \n",
       "\n",
       "     people_vaccinated_aus  total_vaccinations_us  people_vaccinated_us  \\\n",
       "0                     20.0               64177474            44138118.0   \n",
       "1                   2879.0               65032083            44544969.0   \n",
       "2                   6908.0               66464947            45237143.0   \n",
       "3                  17500.0               68274117            46074392.0   \n",
       "4                  25000.0               70454064            47184199.0   \n",
       "..                     ...                    ...                   ...   \n",
       "192             14091380.0              380831725           209701005.0   \n",
       "193             14226430.0              381453265           209982936.0   \n",
       "194             14367430.0              382294795           210361099.0   \n",
       "195             14609197.0              383038403           210700361.0   \n",
       "196             14768715.0              383994877           211097597.0   \n",
       "\n",
       "     people_fully_vaccinated_us  \n",
       "0                    19438495.0  \n",
       "1                    19882544.0  \n",
       "2                    20607261.0  \n",
       "3                    21555117.0  \n",
       "4                    22613359.0  \n",
       "..                          ...  \n",
       "192                 178982950.0  \n",
       "193                 179289983.0  \n",
       "194                 179695287.0  \n",
       "195                 180086143.0  \n",
       "196                 180572171.0  \n",
       "\n",
       "[197 rows x 7 columns]"
      ]
     },
     "execution_count": 4,
     "metadata": {},
     "output_type": "execute_result"
    }
   ],
   "source": [
    "# Merge Aus and US data\n",
    "merged_df = aus_df.merge(usa_df, how = 'inner', on='date', suffixes = ('_aus','_us'))\n",
    "\n",
    "# Remove unused columns\n",
    "merged_df = merged_df.drop(columns=['vaccine_aus', 'location_aus', 'vaccine_us', 'location_us'])\n",
    "merged_df"
   ]
  },
  {
   "cell_type": "code",
   "execution_count": 5,
   "id": "2cb63b5e",
   "metadata": {},
   "outputs": [
    {
     "data": {
      "text/html": [
       "<div>\n",
       "<style scoped>\n",
       "    .dataframe tbody tr th:only-of-type {\n",
       "        vertical-align: middle;\n",
       "    }\n",
       "\n",
       "    .dataframe tbody tr th {\n",
       "        vertical-align: top;\n",
       "    }\n",
       "\n",
       "    .dataframe thead th {\n",
       "        text-align: right;\n",
       "    }\n",
       "</style>\n",
       "<table border=\"1\" class=\"dataframe\">\n",
       "  <thead>\n",
       "    <tr style=\"text-align: right;\">\n",
       "      <th></th>\n",
       "      <th>date</th>\n",
       "      <th>Total Vaccinations (Aus)</th>\n",
       "      <th>2nd Dose (Aus)</th>\n",
       "      <th>1st Dose (Aus)</th>\n",
       "      <th>Total Vaccinations (US)</th>\n",
       "      <th>1st Dose (US)</th>\n",
       "      <th>2nd Dose (US)</th>\n",
       "      <th>Total Vaccinations (SKr)</th>\n",
       "      <th>1st Dose (SKr)</th>\n",
       "      <th>2nd Dose (SKr)</th>\n",
       "    </tr>\n",
       "  </thead>\n",
       "  <tbody>\n",
       "    <tr>\n",
       "      <th>0</th>\n",
       "      <td>2021-02-26</td>\n",
       "      <td>25000</td>\n",
       "      <td>0.0</td>\n",
       "      <td>25000.0</td>\n",
       "      <td>70454064</td>\n",
       "      <td>47184199.0</td>\n",
       "      <td>22613359.0</td>\n",
       "      <td>24540</td>\n",
       "      <td>22694</td>\n",
       "      <td>1854</td>\n",
       "    </tr>\n",
       "    <tr>\n",
       "      <th>1</th>\n",
       "      <td>2021-02-27</td>\n",
       "      <td>30000</td>\n",
       "      <td>0.0</td>\n",
       "      <td>30000.0</td>\n",
       "      <td>72806180</td>\n",
       "      <td>48435536.0</td>\n",
       "      <td>23698627.0</td>\n",
       "      <td>25966</td>\n",
       "      <td>24120</td>\n",
       "      <td>1854</td>\n",
       "    </tr>\n",
       "    <tr>\n",
       "      <th>2</th>\n",
       "      <td>2021-02-28</td>\n",
       "      <td>31894</td>\n",
       "      <td>0.0</td>\n",
       "      <td>31894.0</td>\n",
       "      <td>75236003</td>\n",
       "      <td>49772180.0</td>\n",
       "      <td>24779920.0</td>\n",
       "      <td>26830</td>\n",
       "      <td>24984</td>\n",
       "      <td>1854</td>\n",
       "    </tr>\n",
       "    <tr>\n",
       "      <th>3</th>\n",
       "      <td>2021-03-01</td>\n",
       "      <td>33702</td>\n",
       "      <td>0.0</td>\n",
       "      <td>33702.0</td>\n",
       "      <td>76899987</td>\n",
       "      <td>50732997.0</td>\n",
       "      <td>25466405.0</td>\n",
       "      <td>28364</td>\n",
       "      <td>26518</td>\n",
       "      <td>1856</td>\n",
       "    </tr>\n",
       "    <tr>\n",
       "      <th>4</th>\n",
       "      <td>2021-03-02</td>\n",
       "      <td>41907</td>\n",
       "      <td>0.0</td>\n",
       "      <td>41907.0</td>\n",
       "      <td>78631601</td>\n",
       "      <td>51755447.0</td>\n",
       "      <td>26162122.0</td>\n",
       "      <td>94794</td>\n",
       "      <td>92946</td>\n",
       "      <td>1858</td>\n",
       "    </tr>\n",
       "    <tr>\n",
       "      <th>...</th>\n",
       "      <td>...</td>\n",
       "      <td>...</td>\n",
       "      <td>...</td>\n",
       "      <td>...</td>\n",
       "      <td>...</td>\n",
       "      <td>...</td>\n",
       "      <td>...</td>\n",
       "      <td>...</td>\n",
       "      <td>...</td>\n",
       "      <td>...</td>\n",
       "    </tr>\n",
       "    <tr>\n",
       "      <th>187</th>\n",
       "      <td>2021-09-12</td>\n",
       "      <td>22669372</td>\n",
       "      <td>8658267.0</td>\n",
       "      <td>14011105.0</td>\n",
       "      <td>380241903</td>\n",
       "      <td>209437152.0</td>\n",
       "      <td>178692875.0</td>\n",
       "      <td>51918096</td>\n",
       "      <td>33180367</td>\n",
       "      <td>20088923</td>\n",
       "    </tr>\n",
       "    <tr>\n",
       "      <th>188</th>\n",
       "      <td>2021-09-13</td>\n",
       "      <td>22802573</td>\n",
       "      <td>8711193.0</td>\n",
       "      <td>14091380.0</td>\n",
       "      <td>380831725</td>\n",
       "      <td>209701005.0</td>\n",
       "      <td>178982950.0</td>\n",
       "      <td>53161664</td>\n",
       "      <td>34008332</td>\n",
       "      <td>20511816</td>\n",
       "    </tr>\n",
       "    <tr>\n",
       "      <th>189</th>\n",
       "      <td>2021-09-14</td>\n",
       "      <td>23078749</td>\n",
       "      <td>8852319.0</td>\n",
       "      <td>14226430.0</td>\n",
       "      <td>381453265</td>\n",
       "      <td>209982936.0</td>\n",
       "      <td>179289983.0</td>\n",
       "      <td>53977761</td>\n",
       "      <td>34610262</td>\n",
       "      <td>20736211</td>\n",
       "    </tr>\n",
       "    <tr>\n",
       "      <th>190</th>\n",
       "      <td>2021-09-15</td>\n",
       "      <td>23362740</td>\n",
       "      <td>8995310.0</td>\n",
       "      <td>14367430.0</td>\n",
       "      <td>382294795</td>\n",
       "      <td>210361099.0</td>\n",
       "      <td>179695287.0</td>\n",
       "      <td>54783645</td>\n",
       "      <td>34986293</td>\n",
       "      <td>21176113</td>\n",
       "    </tr>\n",
       "    <tr>\n",
       "      <th>191</th>\n",
       "      <td>2021-09-16</td>\n",
       "      <td>23751922</td>\n",
       "      <td>9142725.0</td>\n",
       "      <td>14609197.0</td>\n",
       "      <td>383038403</td>\n",
       "      <td>210700361.0</td>\n",
       "      <td>180086143.0</td>\n",
       "      <td>55514851</td>\n",
       "      <td>35414516</td>\n",
       "      <td>21489009</td>\n",
       "    </tr>\n",
       "  </tbody>\n",
       "</table>\n",
       "<p>192 rows × 10 columns</p>\n",
       "</div>"
      ],
      "text/plain": [
       "          date  Total Vaccinations (Aus)  2nd Dose (Aus)  1st Dose (Aus)  \\\n",
       "0   2021-02-26                     25000             0.0         25000.0   \n",
       "1   2021-02-27                     30000             0.0         30000.0   \n",
       "2   2021-02-28                     31894             0.0         31894.0   \n",
       "3   2021-03-01                     33702             0.0         33702.0   \n",
       "4   2021-03-02                     41907             0.0         41907.0   \n",
       "..         ...                       ...             ...             ...   \n",
       "187 2021-09-12                  22669372       8658267.0      14011105.0   \n",
       "188 2021-09-13                  22802573       8711193.0      14091380.0   \n",
       "189 2021-09-14                  23078749       8852319.0      14226430.0   \n",
       "190 2021-09-15                  23362740       8995310.0      14367430.0   \n",
       "191 2021-09-16                  23751922       9142725.0      14609197.0   \n",
       "\n",
       "     Total Vaccinations (US)  1st Dose (US)  2nd Dose (US)  \\\n",
       "0                   70454064     47184199.0     22613359.0   \n",
       "1                   72806180     48435536.0     23698627.0   \n",
       "2                   75236003     49772180.0     24779920.0   \n",
       "3                   76899987     50732997.0     25466405.0   \n",
       "4                   78631601     51755447.0     26162122.0   \n",
       "..                       ...            ...            ...   \n",
       "187                380241903    209437152.0    178692875.0   \n",
       "188                380831725    209701005.0    178982950.0   \n",
       "189                381453265    209982936.0    179289983.0   \n",
       "190                382294795    210361099.0    179695287.0   \n",
       "191                383038403    210700361.0    180086143.0   \n",
       "\n",
       "     Total Vaccinations (SKr)  1st Dose (SKr)  2nd Dose (SKr)  \n",
       "0                       24540           22694            1854  \n",
       "1                       25966           24120            1854  \n",
       "2                       26830           24984            1854  \n",
       "3                       28364           26518            1856  \n",
       "4                       94794           92946            1858  \n",
       "..                        ...             ...             ...  \n",
       "187                  51918096        33180367        20088923  \n",
       "188                  53161664        34008332        20511816  \n",
       "189                  53977761        34610262        20736211  \n",
       "190                  54783645        34986293        21176113  \n",
       "191                  55514851        35414516        21489009  \n",
       "\n",
       "[192 rows x 10 columns]"
      ]
     },
     "execution_count": 5,
     "metadata": {},
     "output_type": "execute_result"
    }
   ],
   "source": [
    "# Merge with South Korean data\n",
    "merged_df2 = merged_df.merge(skr_df, how = 'inner', on='date', suffixes = ('','_skr'))\n",
    "\n",
    "# Remove unused columns\n",
    "merged_df2 = merged_df2.drop(columns=['vaccine', 'location'])\n",
    "\n",
    "# Rename columns\n",
    "dict = {'total_vaccinations_aus' : 'Total Vaccinations (Aus)',\n",
    "        'people_fully_vaccinated_aus' : '2nd Dose (Aus)',\n",
    "        'people_vaccinated_aus' : '1st Dose (Aus)',\n",
    "        'total_vaccinations_us' : 'Total Vaccinations (US)',\n",
    "        'people_fully_vaccinated_us' : '2nd Dose (US)',\n",
    "        'people_vaccinated_us' : '1st Dose (US)',\n",
    "        'total_vaccinations' : 'Total Vaccinations (SKr)',\n",
    "        'people_fully_vaccinated' : '2nd Dose (SKr)',\n",
    "        'people_vaccinated' : '1st Dose (SKr)'}\n",
    "merged_df2.rename(columns=dict,\n",
    "          inplace=True)\n",
    "\n",
    "# Convert date column to datetime data type\n",
    "merged_df2[\"date\"]= pd.to_datetime(merged_df2[\"date\"], dayfirst=True)\n",
    "\n",
    "merged_df2"
   ]
  },
  {
   "cell_type": "code",
   "execution_count": 6,
   "id": "91f73f3f",
   "metadata": {},
   "outputs": [
    {
     "data": {
      "text/html": [
       "<div>\n",
       "<style scoped>\n",
       "    .dataframe tbody tr th:only-of-type {\n",
       "        vertical-align: middle;\n",
       "    }\n",
       "\n",
       "    .dataframe tbody tr th {\n",
       "        vertical-align: top;\n",
       "    }\n",
       "\n",
       "    .dataframe thead th {\n",
       "        text-align: right;\n",
       "    }\n",
       "</style>\n",
       "<table border=\"1\" class=\"dataframe\">\n",
       "  <thead>\n",
       "    <tr style=\"text-align: right;\">\n",
       "      <th></th>\n",
       "      <th>Daily Vaccinations (Aus)</th>\n",
       "      <th>Daily Vaccinations (US)</th>\n",
       "      <th>Daily Vaccinations (SKr)</th>\n",
       "      <th>date</th>\n",
       "    </tr>\n",
       "  </thead>\n",
       "  <tbody>\n",
       "    <tr>\n",
       "      <th>0</th>\n",
       "      <td>NaN</td>\n",
       "      <td>NaN</td>\n",
       "      <td>NaN</td>\n",
       "      <td>2021-02-26</td>\n",
       "    </tr>\n",
       "    <tr>\n",
       "      <th>1</th>\n",
       "      <td>5000.0</td>\n",
       "      <td>2352116.0</td>\n",
       "      <td>1426.0</td>\n",
       "      <td>2021-02-27</td>\n",
       "    </tr>\n",
       "    <tr>\n",
       "      <th>2</th>\n",
       "      <td>1894.0</td>\n",
       "      <td>2429823.0</td>\n",
       "      <td>864.0</td>\n",
       "      <td>2021-02-28</td>\n",
       "    </tr>\n",
       "    <tr>\n",
       "      <th>3</th>\n",
       "      <td>1808.0</td>\n",
       "      <td>1663984.0</td>\n",
       "      <td>1534.0</td>\n",
       "      <td>2021-03-01</td>\n",
       "    </tr>\n",
       "    <tr>\n",
       "      <th>4</th>\n",
       "      <td>8205.0</td>\n",
       "      <td>1731614.0</td>\n",
       "      <td>66430.0</td>\n",
       "      <td>2021-03-02</td>\n",
       "    </tr>\n",
       "    <tr>\n",
       "      <th>...</th>\n",
       "      <td>...</td>\n",
       "      <td>...</td>\n",
       "      <td>...</td>\n",
       "      <td>...</td>\n",
       "    </tr>\n",
       "    <tr>\n",
       "      <th>187</th>\n",
       "      <td>195809.0</td>\n",
       "      <td>769683.0</td>\n",
       "      <td>44415.0</td>\n",
       "      <td>2021-09-12</td>\n",
       "    </tr>\n",
       "    <tr>\n",
       "      <th>188</th>\n",
       "      <td>133201.0</td>\n",
       "      <td>589822.0</td>\n",
       "      <td>1243568.0</td>\n",
       "      <td>2021-09-13</td>\n",
       "    </tr>\n",
       "    <tr>\n",
       "      <th>189</th>\n",
       "      <td>276176.0</td>\n",
       "      <td>621540.0</td>\n",
       "      <td>816097.0</td>\n",
       "      <td>2021-09-14</td>\n",
       "    </tr>\n",
       "    <tr>\n",
       "      <th>190</th>\n",
       "      <td>283991.0</td>\n",
       "      <td>841530.0</td>\n",
       "      <td>805884.0</td>\n",
       "      <td>2021-09-15</td>\n",
       "    </tr>\n",
       "    <tr>\n",
       "      <th>191</th>\n",
       "      <td>389182.0</td>\n",
       "      <td>743608.0</td>\n",
       "      <td>731206.0</td>\n",
       "      <td>2021-09-16</td>\n",
       "    </tr>\n",
       "  </tbody>\n",
       "</table>\n",
       "<p>192 rows × 4 columns</p>\n",
       "</div>"
      ],
      "text/plain": [
       "     Daily Vaccinations (Aus)  Daily Vaccinations (US)  \\\n",
       "0                         NaN                      NaN   \n",
       "1                      5000.0                2352116.0   \n",
       "2                      1894.0                2429823.0   \n",
       "3                      1808.0                1663984.0   \n",
       "4                      8205.0                1731614.0   \n",
       "..                        ...                      ...   \n",
       "187                  195809.0                 769683.0   \n",
       "188                  133201.0                 589822.0   \n",
       "189                  276176.0                 621540.0   \n",
       "190                  283991.0                 841530.0   \n",
       "191                  389182.0                 743608.0   \n",
       "\n",
       "     Daily Vaccinations (SKr)       date  \n",
       "0                         NaN 2021-02-26  \n",
       "1                      1426.0 2021-02-27  \n",
       "2                       864.0 2021-02-28  \n",
       "3                      1534.0 2021-03-01  \n",
       "4                     66430.0 2021-03-02  \n",
       "..                        ...        ...  \n",
       "187                   44415.0 2021-09-12  \n",
       "188                 1243568.0 2021-09-13  \n",
       "189                  816097.0 2021-09-14  \n",
       "190                  805884.0 2021-09-15  \n",
       "191                  731206.0 2021-09-16  \n",
       "\n",
       "[192 rows x 4 columns]"
      ]
     },
     "execution_count": 6,
     "metadata": {},
     "output_type": "execute_result"
    }
   ],
   "source": [
    "# Obtain total vaccinations and put into dataframe\n",
    "daily_vaccines = merged_df2[['Total Vaccinations (Aus)', 'Total Vaccinations (US)', 'Total Vaccinations (SKr)']]\n",
    "\n",
    "# Use .diff() function to obtain daily data\n",
    "daily_vaccines = daily_vaccines.diff()\n",
    "date_col = merged_df2['date']\n",
    "daily_vaccines = daily_vaccines.join(date_col)\n",
    "\n",
    "# Rename columns\n",
    "dict2 = {'Total Vaccinations (Aus)' : 'Daily Vaccinations (Aus)', \n",
    "         'Total Vaccinations (US)' : 'Daily Vaccinations (US)',\n",
    "         'Total Vaccinations (SKr)' : 'Daily Vaccinations (SKr)'}\n",
    "daily_vaccines.rename(columns=dict2,\n",
    "          inplace=True)\n",
    "daily_vaccines"
   ]
  },
  {
   "cell_type": "markdown",
   "id": "5a14f15b",
   "metadata": {},
   "source": [
    "## Start import Case File"
   ]
  },
  {
   "cell_type": "code",
   "execution_count": 7,
   "id": "8fd73e07",
   "metadata": {},
   "outputs": [
    {
     "data": {
      "text/html": [
       "<div>\n",
       "<style scoped>\n",
       "    .dataframe tbody tr th:only-of-type {\n",
       "        vertical-align: middle;\n",
       "    }\n",
       "\n",
       "    .dataframe tbody tr th {\n",
       "        vertical-align: top;\n",
       "    }\n",
       "\n",
       "    .dataframe thead th {\n",
       "        text-align: right;\n",
       "    }\n",
       "</style>\n",
       "<table border=\"1\" class=\"dataframe\">\n",
       "  <thead>\n",
       "    <tr style=\"text-align: right;\">\n",
       "      <th></th>\n",
       "      <th>Unnamed: 0</th>\n",
       "      <th>date</th>\n",
       "      <th>Total Cases (Aus)</th>\n",
       "      <th>Daily Cases (Aus)</th>\n",
       "      <th>Total Cases (US)</th>\n",
       "      <th>Daily Cases (US)</th>\n",
       "      <th>Total Cases (SKr)</th>\n",
       "      <th>Daily Cases (SKr)</th>\n",
       "    </tr>\n",
       "  </thead>\n",
       "  <tbody>\n",
       "    <tr>\n",
       "      <th>0</th>\n",
       "      <td>0</td>\n",
       "      <td>2020-01-26</td>\n",
       "      <td>4.0</td>\n",
       "      <td>4.0</td>\n",
       "      <td>5.0</td>\n",
       "      <td>3.0</td>\n",
       "      <td>3.0</td>\n",
       "      <td>1.0</td>\n",
       "    </tr>\n",
       "    <tr>\n",
       "      <th>1</th>\n",
       "      <td>1</td>\n",
       "      <td>2020-01-27</td>\n",
       "      <td>5.0</td>\n",
       "      <td>1.0</td>\n",
       "      <td>5.0</td>\n",
       "      <td>0.0</td>\n",
       "      <td>4.0</td>\n",
       "      <td>1.0</td>\n",
       "    </tr>\n",
       "    <tr>\n",
       "      <th>2</th>\n",
       "      <td>2</td>\n",
       "      <td>2020-01-28</td>\n",
       "      <td>5.0</td>\n",
       "      <td>0.0</td>\n",
       "      <td>5.0</td>\n",
       "      <td>0.0</td>\n",
       "      <td>4.0</td>\n",
       "      <td>0.0</td>\n",
       "    </tr>\n",
       "    <tr>\n",
       "      <th>3</th>\n",
       "      <td>3</td>\n",
       "      <td>2020-01-29</td>\n",
       "      <td>6.0</td>\n",
       "      <td>1.0</td>\n",
       "      <td>6.0</td>\n",
       "      <td>1.0</td>\n",
       "      <td>4.0</td>\n",
       "      <td>0.0</td>\n",
       "    </tr>\n",
       "    <tr>\n",
       "      <th>4</th>\n",
       "      <td>4</td>\n",
       "      <td>2020-01-30</td>\n",
       "      <td>9.0</td>\n",
       "      <td>3.0</td>\n",
       "      <td>6.0</td>\n",
       "      <td>0.0</td>\n",
       "      <td>4.0</td>\n",
       "      <td>0.0</td>\n",
       "    </tr>\n",
       "    <tr>\n",
       "      <th>...</th>\n",
       "      <td>...</td>\n",
       "      <td>...</td>\n",
       "      <td>...</td>\n",
       "      <td>...</td>\n",
       "      <td>...</td>\n",
       "      <td>...</td>\n",
       "      <td>...</td>\n",
       "      <td>...</td>\n",
       "    </tr>\n",
       "    <tr>\n",
       "      <th>598</th>\n",
       "      <td>598</td>\n",
       "      <td>2021-09-15</td>\n",
       "      <td>80400.0</td>\n",
       "      <td>1856.0</td>\n",
       "      <td>41627946.0</td>\n",
       "      <td>166284.0</td>\n",
       "      <td>279930.0</td>\n",
       "      <td>1941.0</td>\n",
       "    </tr>\n",
       "    <tr>\n",
       "      <th>599</th>\n",
       "      <td>599</td>\n",
       "      <td>2021-09-16</td>\n",
       "      <td>82200.0</td>\n",
       "      <td>1800.0</td>\n",
       "      <td>41785903.0</td>\n",
       "      <td>157957.0</td>\n",
       "      <td>281938.0</td>\n",
       "      <td>2008.0</td>\n",
       "    </tr>\n",
       "    <tr>\n",
       "      <th>600</th>\n",
       "      <td>600</td>\n",
       "      <td>2021-09-17</td>\n",
       "      <td>84056.0</td>\n",
       "      <td>1856.0</td>\n",
       "      <td>41993789.0</td>\n",
       "      <td>207886.0</td>\n",
       "      <td>284022.0</td>\n",
       "      <td>2084.0</td>\n",
       "    </tr>\n",
       "    <tr>\n",
       "      <th>601</th>\n",
       "      <td>601</td>\n",
       "      <td>2021-09-18</td>\n",
       "      <td>85628.0</td>\n",
       "      <td>1572.0</td>\n",
       "      <td>42050638.0</td>\n",
       "      <td>56849.0</td>\n",
       "      <td>285931.0</td>\n",
       "      <td>1909.0</td>\n",
       "    </tr>\n",
       "    <tr>\n",
       "      <th>602</th>\n",
       "      <td>602</td>\n",
       "      <td>2021-09-19</td>\n",
       "      <td>87128.0</td>\n",
       "      <td>1500.0</td>\n",
       "      <td>42087432.0</td>\n",
       "      <td>36794.0</td>\n",
       "      <td>287536.0</td>\n",
       "      <td>1605.0</td>\n",
       "    </tr>\n",
       "  </tbody>\n",
       "</table>\n",
       "<p>603 rows × 8 columns</p>\n",
       "</div>"
      ],
      "text/plain": [
       "     Unnamed: 0       date  Total Cases (Aus)  Daily Cases (Aus)  \\\n",
       "0             0 2020-01-26                4.0                4.0   \n",
       "1             1 2020-01-27                5.0                1.0   \n",
       "2             2 2020-01-28                5.0                0.0   \n",
       "3             3 2020-01-29                6.0                1.0   \n",
       "4             4 2020-01-30                9.0                3.0   \n",
       "..          ...        ...                ...                ...   \n",
       "598         598 2021-09-15            80400.0             1856.0   \n",
       "599         599 2021-09-16            82200.0             1800.0   \n",
       "600         600 2021-09-17            84056.0             1856.0   \n",
       "601         601 2021-09-18            85628.0             1572.0   \n",
       "602         602 2021-09-19            87128.0             1500.0   \n",
       "\n",
       "     Total Cases (US)  Daily Cases (US)  Total Cases (SKr)  Daily Cases (SKr)  \n",
       "0                 5.0               3.0                3.0                1.0  \n",
       "1                 5.0               0.0                4.0                1.0  \n",
       "2                 5.0               0.0                4.0                0.0  \n",
       "3                 6.0               1.0                4.0                0.0  \n",
       "4                 6.0               0.0                4.0                0.0  \n",
       "..                ...               ...                ...                ...  \n",
       "598        41627946.0          166284.0           279930.0             1941.0  \n",
       "599        41785903.0          157957.0           281938.0             2008.0  \n",
       "600        41993789.0          207886.0           284022.0             2084.0  \n",
       "601        42050638.0           56849.0           285931.0             1909.0  \n",
       "602        42087432.0           36794.0           287536.0             1605.0  \n",
       "\n",
       "[603 rows x 8 columns]"
      ]
     },
     "execution_count": 7,
     "metadata": {},
     "output_type": "execute_result"
    }
   ],
   "source": [
    "# Read csv file of cases\n",
    "cases_file = pd.read_csv (r'Resources/cases_au_us_skr_data.csv')\n",
    "\n",
    "# Convert date column to datetime data type\n",
    "cases_file[\"date\"]= pd.to_datetime(cases_file[\"date\"], dayfirst=True)\n",
    "\n",
    "# Rename columns\n",
    "dict3 = {'total_cases_aus': 'Total Cases (Aus)',\n",
    "         'total_cases_us': 'Total Cases (US)',\n",
    "         'total_cases': 'Total Cases (SKr)',\n",
    "         'new_cases_aus' : 'Daily Cases (Aus)', \n",
    "         'new_cases_us' : 'Daily Cases (US)',\n",
    "         'new_cases' : 'Daily Cases (SKr)'}\n",
    "cases_file.rename(columns=dict3,\n",
    "          inplace=True)\n",
    "\n",
    "###cases_file.loc['date' == '2021-03-09']\n",
    "cases_file"
   ]
  },
  {
   "cell_type": "code",
   "execution_count": 8,
   "id": "d4e924db",
   "metadata": {},
   "outputs": [
    {
     "data": {
      "text/html": [
       "<div>\n",
       "<style scoped>\n",
       "    .dataframe tbody tr th:only-of-type {\n",
       "        vertical-align: middle;\n",
       "    }\n",
       "\n",
       "    .dataframe tbody tr th {\n",
       "        vertical-align: top;\n",
       "    }\n",
       "\n",
       "    .dataframe thead th {\n",
       "        text-align: right;\n",
       "    }\n",
       "</style>\n",
       "<table border=\"1\" class=\"dataframe\">\n",
       "  <thead>\n",
       "    <tr style=\"text-align: right;\">\n",
       "      <th></th>\n",
       "      <th>date</th>\n",
       "      <th>Daily Cases (Aus)</th>\n",
       "      <th>Daily Cases (US)</th>\n",
       "      <th>Daily Cases (SKr)</th>\n",
       "    </tr>\n",
       "  </thead>\n",
       "  <tbody>\n",
       "    <tr>\n",
       "      <th>0</th>\n",
       "      <td>2020-01-26</td>\n",
       "      <td>4.0</td>\n",
       "      <td>3.0</td>\n",
       "      <td>1.0</td>\n",
       "    </tr>\n",
       "    <tr>\n",
       "      <th>1</th>\n",
       "      <td>2020-01-27</td>\n",
       "      <td>1.0</td>\n",
       "      <td>0.0</td>\n",
       "      <td>1.0</td>\n",
       "    </tr>\n",
       "    <tr>\n",
       "      <th>2</th>\n",
       "      <td>2020-01-28</td>\n",
       "      <td>0.0</td>\n",
       "      <td>0.0</td>\n",
       "      <td>0.0</td>\n",
       "    </tr>\n",
       "    <tr>\n",
       "      <th>3</th>\n",
       "      <td>2020-01-29</td>\n",
       "      <td>1.0</td>\n",
       "      <td>1.0</td>\n",
       "      <td>0.0</td>\n",
       "    </tr>\n",
       "    <tr>\n",
       "      <th>4</th>\n",
       "      <td>2020-01-30</td>\n",
       "      <td>3.0</td>\n",
       "      <td>0.0</td>\n",
       "      <td>0.0</td>\n",
       "    </tr>\n",
       "    <tr>\n",
       "      <th>...</th>\n",
       "      <td>...</td>\n",
       "      <td>...</td>\n",
       "      <td>...</td>\n",
       "      <td>...</td>\n",
       "    </tr>\n",
       "    <tr>\n",
       "      <th>598</th>\n",
       "      <td>2021-09-15</td>\n",
       "      <td>1856.0</td>\n",
       "      <td>166284.0</td>\n",
       "      <td>1941.0</td>\n",
       "    </tr>\n",
       "    <tr>\n",
       "      <th>599</th>\n",
       "      <td>2021-09-16</td>\n",
       "      <td>1800.0</td>\n",
       "      <td>157957.0</td>\n",
       "      <td>2008.0</td>\n",
       "    </tr>\n",
       "    <tr>\n",
       "      <th>600</th>\n",
       "      <td>2021-09-17</td>\n",
       "      <td>1856.0</td>\n",
       "      <td>207886.0</td>\n",
       "      <td>2084.0</td>\n",
       "    </tr>\n",
       "    <tr>\n",
       "      <th>601</th>\n",
       "      <td>2021-09-18</td>\n",
       "      <td>1572.0</td>\n",
       "      <td>56849.0</td>\n",
       "      <td>1909.0</td>\n",
       "    </tr>\n",
       "    <tr>\n",
       "      <th>602</th>\n",
       "      <td>2021-09-19</td>\n",
       "      <td>1500.0</td>\n",
       "      <td>36794.0</td>\n",
       "      <td>1605.0</td>\n",
       "    </tr>\n",
       "  </tbody>\n",
       "</table>\n",
       "<p>603 rows × 4 columns</p>\n",
       "</div>"
      ],
      "text/plain": [
       "          date  Daily Cases (Aus)  Daily Cases (US)  Daily Cases (SKr)\n",
       "0   2020-01-26                4.0               3.0                1.0\n",
       "1   2020-01-27                1.0               0.0                1.0\n",
       "2   2020-01-28                0.0               0.0                0.0\n",
       "3   2020-01-29                1.0               1.0                0.0\n",
       "4   2020-01-30                3.0               0.0                0.0\n",
       "..         ...                ...               ...                ...\n",
       "598 2021-09-15             1856.0          166284.0             1941.0\n",
       "599 2021-09-16             1800.0          157957.0             2008.0\n",
       "600 2021-09-17             1856.0          207886.0             2084.0\n",
       "601 2021-09-18             1572.0           56849.0             1909.0\n",
       "602 2021-09-19             1500.0           36794.0             1605.0\n",
       "\n",
       "[603 rows x 4 columns]"
      ]
     },
     "execution_count": 8,
     "metadata": {},
     "output_type": "execute_result"
    }
   ],
   "source": [
    "# Obtain only daily case data\n",
    "daily_cases = cases_file[['date', 'Daily Cases (Aus)', 'Daily Cases (US)', 'Daily Cases (SKr)']]\n",
    "\n",
    "daily_cases"
   ]
  },
  {
   "cell_type": "markdown",
   "id": "412deb43",
   "metadata": {},
   "source": [
    "## Final merged Data Frame (Daily Cases and Daily Vaccinations)"
   ]
  },
  {
   "cell_type": "code",
   "execution_count": 9,
   "id": "9ff0b5bb",
   "metadata": {},
   "outputs": [
    {
     "data": {
      "text/html": [
       "<div>\n",
       "<style scoped>\n",
       "    .dataframe tbody tr th:only-of-type {\n",
       "        vertical-align: middle;\n",
       "    }\n",
       "\n",
       "    .dataframe tbody tr th {\n",
       "        vertical-align: top;\n",
       "    }\n",
       "\n",
       "    .dataframe thead th {\n",
       "        text-align: right;\n",
       "    }\n",
       "</style>\n",
       "<table border=\"1\" class=\"dataframe\">\n",
       "  <thead>\n",
       "    <tr style=\"text-align: right;\">\n",
       "      <th></th>\n",
       "      <th>Daily Vaccinations (Aus)</th>\n",
       "      <th>Daily Vaccinations (US)</th>\n",
       "      <th>Daily Vaccinations (SKr)</th>\n",
       "      <th>date</th>\n",
       "      <th>Daily Cases (Aus)</th>\n",
       "      <th>Daily Cases (US)</th>\n",
       "      <th>Daily Cases (SKr)</th>\n",
       "    </tr>\n",
       "  </thead>\n",
       "  <tbody>\n",
       "    <tr>\n",
       "      <th>0</th>\n",
       "      <td>NaN</td>\n",
       "      <td>NaN</td>\n",
       "      <td>NaN</td>\n",
       "      <td>2021-02-26</td>\n",
       "      <td>8.0</td>\n",
       "      <td>77678.0</td>\n",
       "      <td>399.0</td>\n",
       "    </tr>\n",
       "    <tr>\n",
       "      <th>1</th>\n",
       "      <td>5000.0</td>\n",
       "      <td>2352116.0</td>\n",
       "      <td>1426.0</td>\n",
       "      <td>2021-02-27</td>\n",
       "      <td>5.0</td>\n",
       "      <td>65735.0</td>\n",
       "      <td>355.0</td>\n",
       "    </tr>\n",
       "    <tr>\n",
       "      <th>2</th>\n",
       "      <td>1894.0</td>\n",
       "      <td>2429823.0</td>\n",
       "      <td>864.0</td>\n",
       "      <td>2021-02-28</td>\n",
       "      <td>8.0</td>\n",
       "      <td>51992.0</td>\n",
       "      <td>355.0</td>\n",
       "    </tr>\n",
       "    <tr>\n",
       "      <th>3</th>\n",
       "      <td>1808.0</td>\n",
       "      <td>1663984.0</td>\n",
       "      <td>1534.0</td>\n",
       "      <td>2021-03-01</td>\n",
       "      <td>8.0</td>\n",
       "      <td>55430.0</td>\n",
       "      <td>341.0</td>\n",
       "    </tr>\n",
       "    <tr>\n",
       "      <th>4</th>\n",
       "      <td>8205.0</td>\n",
       "      <td>1731614.0</td>\n",
       "      <td>66430.0</td>\n",
       "      <td>2021-03-02</td>\n",
       "      <td>10.0</td>\n",
       "      <td>56965.0</td>\n",
       "      <td>444.0</td>\n",
       "    </tr>\n",
       "    <tr>\n",
       "      <th>...</th>\n",
       "      <td>...</td>\n",
       "      <td>...</td>\n",
       "      <td>...</td>\n",
       "      <td>...</td>\n",
       "      <td>...</td>\n",
       "      <td>...</td>\n",
       "      <td>...</td>\n",
       "    </tr>\n",
       "    <tr>\n",
       "      <th>187</th>\n",
       "      <td>195809.0</td>\n",
       "      <td>769683.0</td>\n",
       "      <td>44415.0</td>\n",
       "      <td>2021-09-12</td>\n",
       "      <td>1720.0</td>\n",
       "      <td>35584.0</td>\n",
       "      <td>1433.0</td>\n",
       "    </tr>\n",
       "    <tr>\n",
       "      <th>188</th>\n",
       "      <td>133201.0</td>\n",
       "      <td>589822.0</td>\n",
       "      <td>1243568.0</td>\n",
       "      <td>2021-09-13</td>\n",
       "      <td>1578.0</td>\n",
       "      <td>260152.0</td>\n",
       "      <td>1495.0</td>\n",
       "    </tr>\n",
       "    <tr>\n",
       "      <th>189</th>\n",
       "      <td>276176.0</td>\n",
       "      <td>621540.0</td>\n",
       "      <td>816097.0</td>\n",
       "      <td>2021-09-14</td>\n",
       "      <td>1643.0</td>\n",
       "      <td>144334.0</td>\n",
       "      <td>2079.0</td>\n",
       "    </tr>\n",
       "    <tr>\n",
       "      <th>190</th>\n",
       "      <td>283991.0</td>\n",
       "      <td>841530.0</td>\n",
       "      <td>805884.0</td>\n",
       "      <td>2021-09-15</td>\n",
       "      <td>1856.0</td>\n",
       "      <td>166284.0</td>\n",
       "      <td>1941.0</td>\n",
       "    </tr>\n",
       "    <tr>\n",
       "      <th>191</th>\n",
       "      <td>389182.0</td>\n",
       "      <td>743608.0</td>\n",
       "      <td>731206.0</td>\n",
       "      <td>2021-09-16</td>\n",
       "      <td>1800.0</td>\n",
       "      <td>157957.0</td>\n",
       "      <td>2008.0</td>\n",
       "    </tr>\n",
       "  </tbody>\n",
       "</table>\n",
       "<p>192 rows × 7 columns</p>\n",
       "</div>"
      ],
      "text/plain": [
       "     Daily Vaccinations (Aus)  Daily Vaccinations (US)  \\\n",
       "0                         NaN                      NaN   \n",
       "1                      5000.0                2352116.0   \n",
       "2                      1894.0                2429823.0   \n",
       "3                      1808.0                1663984.0   \n",
       "4                      8205.0                1731614.0   \n",
       "..                        ...                      ...   \n",
       "187                  195809.0                 769683.0   \n",
       "188                  133201.0                 589822.0   \n",
       "189                  276176.0                 621540.0   \n",
       "190                  283991.0                 841530.0   \n",
       "191                  389182.0                 743608.0   \n",
       "\n",
       "     Daily Vaccinations (SKr)       date  Daily Cases (Aus)  Daily Cases (US)  \\\n",
       "0                         NaN 2021-02-26                8.0           77678.0   \n",
       "1                      1426.0 2021-02-27                5.0           65735.0   \n",
       "2                       864.0 2021-02-28                8.0           51992.0   \n",
       "3                      1534.0 2021-03-01                8.0           55430.0   \n",
       "4                     66430.0 2021-03-02               10.0           56965.0   \n",
       "..                        ...        ...                ...               ...   \n",
       "187                   44415.0 2021-09-12             1720.0           35584.0   \n",
       "188                 1243568.0 2021-09-13             1578.0          260152.0   \n",
       "189                  816097.0 2021-09-14             1643.0          144334.0   \n",
       "190                  805884.0 2021-09-15             1856.0          166284.0   \n",
       "191                  731206.0 2021-09-16             1800.0          157957.0   \n",
       "\n",
       "     Daily Cases (SKr)  \n",
       "0                399.0  \n",
       "1                355.0  \n",
       "2                355.0  \n",
       "3                341.0  \n",
       "4                444.0  \n",
       "..                 ...  \n",
       "187             1433.0  \n",
       "188             1495.0  \n",
       "189             2079.0  \n",
       "190             1941.0  \n",
       "191             2008.0  \n",
       "\n",
       "[192 rows x 7 columns]"
      ]
     },
     "execution_count": 9,
     "metadata": {},
     "output_type": "execute_result"
    }
   ],
   "source": [
    "# Merge the Vaccinations and Cases Dataframe together\n",
    "vac_case_df = daily_vaccines.merge(daily_cases, how = 'inner', on='date')\n",
    "vac_case_df"
   ]
  },
  {
   "cell_type": "code",
   "execution_count": 10,
   "id": "f1b1796c",
   "metadata": {},
   "outputs": [],
   "source": [
    "# Check for any null values and drop them\n",
    "vac_case_df.isnull().sum()\n",
    "vac_case_df = vac_case_df.dropna()"
   ]
  },
  {
   "cell_type": "code",
   "execution_count": 11,
   "id": "a1170686",
   "metadata": {},
   "outputs": [],
   "source": [
    "# Save final dataframe into csv file\n",
    "vac_case_df.to_csv (r'Resources/au_skr_us_cases&vaccinations.csv', index=None)\n"
   ]
  },
  {
   "cell_type": "markdown",
   "id": "804e2a13",
   "metadata": {},
   "source": [
    "## Import Stringency Data"
   ]
  },
  {
   "cell_type": "code",
   "execution_count": 12,
   "id": "10d5289e",
   "metadata": {},
   "outputs": [
    {
     "data": {
      "text/html": [
       "<div>\n",
       "<style scoped>\n",
       "    .dataframe tbody tr th:only-of-type {\n",
       "        vertical-align: middle;\n",
       "    }\n",
       "\n",
       "    .dataframe tbody tr th {\n",
       "        vertical-align: top;\n",
       "    }\n",
       "\n",
       "    .dataframe thead th {\n",
       "        text-align: right;\n",
       "    }\n",
       "</style>\n",
       "<table border=\"1\" class=\"dataframe\">\n",
       "  <thead>\n",
       "    <tr style=\"text-align: right;\">\n",
       "      <th></th>\n",
       "      <th>Unnamed: 0</th>\n",
       "      <th>date</th>\n",
       "      <th>total_cases_aus</th>\n",
       "      <th>new_cases_aus</th>\n",
       "      <th>stringency_index_aus</th>\n",
       "      <th>total_cases_us</th>\n",
       "      <th>new_cases_us</th>\n",
       "      <th>stringency_index_us</th>\n",
       "      <th>total_cases</th>\n",
       "      <th>new_cases</th>\n",
       "      <th>stringency_index</th>\n",
       "    </tr>\n",
       "  </thead>\n",
       "  <tbody>\n",
       "    <tr>\n",
       "      <th>0</th>\n",
       "      <td>0</td>\n",
       "      <td>26/01/2020</td>\n",
       "      <td>4.0</td>\n",
       "      <td>4.0</td>\n",
       "      <td>5.56</td>\n",
       "      <td>5.0</td>\n",
       "      <td>3.0</td>\n",
       "      <td>0.0</td>\n",
       "      <td>3.0</td>\n",
       "      <td>1.0</td>\n",
       "      <td>0.0</td>\n",
       "    </tr>\n",
       "    <tr>\n",
       "      <th>1</th>\n",
       "      <td>1</td>\n",
       "      <td>27/01/2020</td>\n",
       "      <td>5.0</td>\n",
       "      <td>1.0</td>\n",
       "      <td>5.56</td>\n",
       "      <td>5.0</td>\n",
       "      <td>0.0</td>\n",
       "      <td>0.0</td>\n",
       "      <td>4.0</td>\n",
       "      <td>1.0</td>\n",
       "      <td>0.0</td>\n",
       "    </tr>\n",
       "    <tr>\n",
       "      <th>2</th>\n",
       "      <td>2</td>\n",
       "      <td>28/01/2020</td>\n",
       "      <td>5.0</td>\n",
       "      <td>0.0</td>\n",
       "      <td>5.56</td>\n",
       "      <td>5.0</td>\n",
       "      <td>0.0</td>\n",
       "      <td>0.0</td>\n",
       "      <td>4.0</td>\n",
       "      <td>0.0</td>\n",
       "      <td>0.0</td>\n",
       "    </tr>\n",
       "    <tr>\n",
       "      <th>3</th>\n",
       "      <td>3</td>\n",
       "      <td>29/01/2020</td>\n",
       "      <td>6.0</td>\n",
       "      <td>1.0</td>\n",
       "      <td>5.56</td>\n",
       "      <td>6.0</td>\n",
       "      <td>1.0</td>\n",
       "      <td>0.0</td>\n",
       "      <td>4.0</td>\n",
       "      <td>0.0</td>\n",
       "      <td>0.0</td>\n",
       "    </tr>\n",
       "    <tr>\n",
       "      <th>4</th>\n",
       "      <td>4</td>\n",
       "      <td>30/01/2020</td>\n",
       "      <td>9.0</td>\n",
       "      <td>3.0</td>\n",
       "      <td>5.56</td>\n",
       "      <td>6.0</td>\n",
       "      <td>0.0</td>\n",
       "      <td>0.0</td>\n",
       "      <td>4.0</td>\n",
       "      <td>0.0</td>\n",
       "      <td>0.0</td>\n",
       "    </tr>\n",
       "    <tr>\n",
       "      <th>...</th>\n",
       "      <td>...</td>\n",
       "      <td>...</td>\n",
       "      <td>...</td>\n",
       "      <td>...</td>\n",
       "      <td>...</td>\n",
       "      <td>...</td>\n",
       "      <td>...</td>\n",
       "      <td>...</td>\n",
       "      <td>...</td>\n",
       "      <td>...</td>\n",
       "      <td>...</td>\n",
       "    </tr>\n",
       "    <tr>\n",
       "      <th>598</th>\n",
       "      <td>598</td>\n",
       "      <td>15/09/2021</td>\n",
       "      <td>80400.0</td>\n",
       "      <td>1856.0</td>\n",
       "      <td>NaN</td>\n",
       "      <td>41627946.0</td>\n",
       "      <td>166284.0</td>\n",
       "      <td>NaN</td>\n",
       "      <td>279930.0</td>\n",
       "      <td>1941.0</td>\n",
       "      <td>NaN</td>\n",
       "    </tr>\n",
       "    <tr>\n",
       "      <th>599</th>\n",
       "      <td>599</td>\n",
       "      <td>16/09/2021</td>\n",
       "      <td>82200.0</td>\n",
       "      <td>1800.0</td>\n",
       "      <td>NaN</td>\n",
       "      <td>41785903.0</td>\n",
       "      <td>157957.0</td>\n",
       "      <td>NaN</td>\n",
       "      <td>281938.0</td>\n",
       "      <td>2008.0</td>\n",
       "      <td>NaN</td>\n",
       "    </tr>\n",
       "    <tr>\n",
       "      <th>600</th>\n",
       "      <td>600</td>\n",
       "      <td>17/09/2021</td>\n",
       "      <td>84056.0</td>\n",
       "      <td>1856.0</td>\n",
       "      <td>NaN</td>\n",
       "      <td>41993789.0</td>\n",
       "      <td>207886.0</td>\n",
       "      <td>NaN</td>\n",
       "      <td>284022.0</td>\n",
       "      <td>2084.0</td>\n",
       "      <td>NaN</td>\n",
       "    </tr>\n",
       "    <tr>\n",
       "      <th>601</th>\n",
       "      <td>601</td>\n",
       "      <td>18/09/2021</td>\n",
       "      <td>85628.0</td>\n",
       "      <td>1572.0</td>\n",
       "      <td>NaN</td>\n",
       "      <td>42050638.0</td>\n",
       "      <td>56849.0</td>\n",
       "      <td>NaN</td>\n",
       "      <td>285931.0</td>\n",
       "      <td>1909.0</td>\n",
       "      <td>NaN</td>\n",
       "    </tr>\n",
       "    <tr>\n",
       "      <th>602</th>\n",
       "      <td>602</td>\n",
       "      <td>19/09/2021</td>\n",
       "      <td>87128.0</td>\n",
       "      <td>1500.0</td>\n",
       "      <td>NaN</td>\n",
       "      <td>42087432.0</td>\n",
       "      <td>36794.0</td>\n",
       "      <td>NaN</td>\n",
       "      <td>287536.0</td>\n",
       "      <td>1605.0</td>\n",
       "      <td>NaN</td>\n",
       "    </tr>\n",
       "  </tbody>\n",
       "</table>\n",
       "<p>603 rows × 11 columns</p>\n",
       "</div>"
      ],
      "text/plain": [
       "     Unnamed: 0        date  total_cases_aus  new_cases_aus  \\\n",
       "0             0  26/01/2020              4.0            4.0   \n",
       "1             1  27/01/2020              5.0            1.0   \n",
       "2             2  28/01/2020              5.0            0.0   \n",
       "3             3  29/01/2020              6.0            1.0   \n",
       "4             4  30/01/2020              9.0            3.0   \n",
       "..          ...         ...              ...            ...   \n",
       "598         598  15/09/2021          80400.0         1856.0   \n",
       "599         599  16/09/2021          82200.0         1800.0   \n",
       "600         600  17/09/2021          84056.0         1856.0   \n",
       "601         601  18/09/2021          85628.0         1572.0   \n",
       "602         602  19/09/2021          87128.0         1500.0   \n",
       "\n",
       "     stringency_index_aus  total_cases_us  new_cases_us  stringency_index_us  \\\n",
       "0                    5.56             5.0           3.0                  0.0   \n",
       "1                    5.56             5.0           0.0                  0.0   \n",
       "2                    5.56             5.0           0.0                  0.0   \n",
       "3                    5.56             6.0           1.0                  0.0   \n",
       "4                    5.56             6.0           0.0                  0.0   \n",
       "..                    ...             ...           ...                  ...   \n",
       "598                   NaN      41627946.0      166284.0                  NaN   \n",
       "599                   NaN      41785903.0      157957.0                  NaN   \n",
       "600                   NaN      41993789.0      207886.0                  NaN   \n",
       "601                   NaN      42050638.0       56849.0                  NaN   \n",
       "602                   NaN      42087432.0       36794.0                  NaN   \n",
       "\n",
       "     total_cases  new_cases  stringency_index  \n",
       "0            3.0        1.0               0.0  \n",
       "1            4.0        1.0               0.0  \n",
       "2            4.0        0.0               0.0  \n",
       "3            4.0        0.0               0.0  \n",
       "4            4.0        0.0               0.0  \n",
       "..           ...        ...               ...  \n",
       "598     279930.0     1941.0               NaN  \n",
       "599     281938.0     2008.0               NaN  \n",
       "600     284022.0     2084.0               NaN  \n",
       "601     285931.0     1909.0               NaN  \n",
       "602     287536.0     1605.0               NaN  \n",
       "\n",
       "[603 rows x 11 columns]"
      ]
     },
     "execution_count": 12,
     "metadata": {},
     "output_type": "execute_result"
    }
   ],
   "source": [
    "file_to_load = \"Resources/cases_usauskr_data.csv\"\n",
    "read_file = pd.read_csv(file_to_load)\n",
    "read_file"
   ]
  },
  {
   "cell_type": "code",
   "execution_count": 13,
   "id": "8d63472e",
   "metadata": {},
   "outputs": [
    {
     "name": "stderr",
     "output_type": "stream",
     "text": [
      "<ipython-input-13-1adad2df2503>:3: SettingWithCopyWarning: \n",
      "A value is trying to be set on a copy of a slice from a DataFrame.\n",
      "Try using .loc[row_indexer,col_indexer] = value instead\n",
      "\n",
      "See the caveats in the documentation: https://pandas.pydata.org/pandas-docs/stable/user_guide/indexing.html#returning-a-view-versus-a-copy\n",
      "  stringency_data[\"date\"]= pd.to_datetime(stringency_data[\"date\"], dayfirst=True)\n"
     ]
    },
    {
     "data": {
      "text/html": [
       "<div>\n",
       "<style scoped>\n",
       "    .dataframe tbody tr th:only-of-type {\n",
       "        vertical-align: middle;\n",
       "    }\n",
       "\n",
       "    .dataframe tbody tr th {\n",
       "        vertical-align: top;\n",
       "    }\n",
       "\n",
       "    .dataframe thead th {\n",
       "        text-align: right;\n",
       "    }\n",
       "</style>\n",
       "<table border=\"1\" class=\"dataframe\">\n",
       "  <thead>\n",
       "    <tr style=\"text-align: right;\">\n",
       "      <th></th>\n",
       "      <th>Daily Vaccinations (Aus)</th>\n",
       "      <th>Daily Vaccinations (US)</th>\n",
       "      <th>Daily Vaccinations (SKr)</th>\n",
       "      <th>date</th>\n",
       "      <th>Daily Cases (Aus)</th>\n",
       "      <th>Daily Cases (US)</th>\n",
       "      <th>Daily Cases (SKr)</th>\n",
       "      <th>stringency_index_aus</th>\n",
       "      <th>stringency_index_us</th>\n",
       "      <th>stringency_index</th>\n",
       "    </tr>\n",
       "  </thead>\n",
       "  <tbody>\n",
       "    <tr>\n",
       "      <th>0</th>\n",
       "      <td>5000.0</td>\n",
       "      <td>2352116.0</td>\n",
       "      <td>1426.0</td>\n",
       "      <td>2021-02-27</td>\n",
       "      <td>5.0</td>\n",
       "      <td>65735.0</td>\n",
       "      <td>355.0</td>\n",
       "      <td>50.46</td>\n",
       "      <td>68.06</td>\n",
       "      <td>63.89</td>\n",
       "    </tr>\n",
       "    <tr>\n",
       "      <th>1</th>\n",
       "      <td>1894.0</td>\n",
       "      <td>2429823.0</td>\n",
       "      <td>864.0</td>\n",
       "      <td>2021-02-28</td>\n",
       "      <td>8.0</td>\n",
       "      <td>51992.0</td>\n",
       "      <td>355.0</td>\n",
       "      <td>50.46</td>\n",
       "      <td>68.06</td>\n",
       "      <td>63.89</td>\n",
       "    </tr>\n",
       "    <tr>\n",
       "      <th>2</th>\n",
       "      <td>1808.0</td>\n",
       "      <td>1663984.0</td>\n",
       "      <td>1534.0</td>\n",
       "      <td>2021-03-01</td>\n",
       "      <td>8.0</td>\n",
       "      <td>55430.0</td>\n",
       "      <td>341.0</td>\n",
       "      <td>50.46</td>\n",
       "      <td>68.06</td>\n",
       "      <td>58.33</td>\n",
       "    </tr>\n",
       "    <tr>\n",
       "      <th>3</th>\n",
       "      <td>8205.0</td>\n",
       "      <td>1731614.0</td>\n",
       "      <td>66430.0</td>\n",
       "      <td>2021-03-02</td>\n",
       "      <td>10.0</td>\n",
       "      <td>56965.0</td>\n",
       "      <td>444.0</td>\n",
       "      <td>50.46</td>\n",
       "      <td>68.06</td>\n",
       "      <td>58.33</td>\n",
       "    </tr>\n",
       "    <tr>\n",
       "      <th>4</th>\n",
       "      <td>8933.0</td>\n",
       "      <td>1908873.0</td>\n",
       "      <td>69478.0</td>\n",
       "      <td>2021-03-03</td>\n",
       "      <td>11.0</td>\n",
       "      <td>67153.0</td>\n",
       "      <td>424.0</td>\n",
       "      <td>50.46</td>\n",
       "      <td>68.06</td>\n",
       "      <td>58.33</td>\n",
       "    </tr>\n",
       "    <tr>\n",
       "      <th>...</th>\n",
       "      <td>...</td>\n",
       "      <td>...</td>\n",
       "      <td>...</td>\n",
       "      <td>...</td>\n",
       "      <td>...</td>\n",
       "      <td>...</td>\n",
       "      <td>...</td>\n",
       "      <td>...</td>\n",
       "      <td>...</td>\n",
       "      <td>...</td>\n",
       "    </tr>\n",
       "    <tr>\n",
       "      <th>180</th>\n",
       "      <td>312275.0</td>\n",
       "      <td>972115.0</td>\n",
       "      <td>370606.0</td>\n",
       "      <td>2021-09-04</td>\n",
       "      <td>1670.0</td>\n",
       "      <td>64318.0</td>\n",
       "      <td>1491.0</td>\n",
       "      <td>71.76</td>\n",
       "      <td>57.87</td>\n",
       "      <td>50.93</td>\n",
       "    </tr>\n",
       "    <tr>\n",
       "      <th>181</th>\n",
       "      <td>603177.0</td>\n",
       "      <td>1506454.0</td>\n",
       "      <td>2367457.0</td>\n",
       "      <td>2021-09-07</td>\n",
       "      <td>1696.0</td>\n",
       "      <td>276318.0</td>\n",
       "      <td>2049.0</td>\n",
       "      <td>71.76</td>\n",
       "      <td>57.87</td>\n",
       "      <td>47.22</td>\n",
       "    </tr>\n",
       "    <tr>\n",
       "      <th>182</th>\n",
       "      <td>294651.0</td>\n",
       "      <td>959754.0</td>\n",
       "      <td>680661.0</td>\n",
       "      <td>2021-09-08</td>\n",
       "      <td>1725.0</td>\n",
       "      <td>181533.0</td>\n",
       "      <td>2047.0</td>\n",
       "      <td>71.76</td>\n",
       "      <td>57.87</td>\n",
       "      <td>47.22</td>\n",
       "    </tr>\n",
       "    <tr>\n",
       "      <th>183</th>\n",
       "      <td>311368.0</td>\n",
       "      <td>666933.0</td>\n",
       "      <td>720233.0</td>\n",
       "      <td>2021-09-09</td>\n",
       "      <td>1870.0</td>\n",
       "      <td>159244.0</td>\n",
       "      <td>1892.0</td>\n",
       "      <td>71.76</td>\n",
       "      <td>57.87</td>\n",
       "      <td>47.22</td>\n",
       "    </tr>\n",
       "    <tr>\n",
       "      <th>184</th>\n",
       "      <td>319057.0</td>\n",
       "      <td>947652.0</td>\n",
       "      <td>1059643.0</td>\n",
       "      <td>2021-09-10</td>\n",
       "      <td>2075.0</td>\n",
       "      <td>227215.0</td>\n",
       "      <td>1865.0</td>\n",
       "      <td>71.76</td>\n",
       "      <td>57.87</td>\n",
       "      <td>47.22</td>\n",
       "    </tr>\n",
       "  </tbody>\n",
       "</table>\n",
       "<p>185 rows × 10 columns</p>\n",
       "</div>"
      ],
      "text/plain": [
       "     Daily Vaccinations (Aus)  Daily Vaccinations (US)  \\\n",
       "0                      5000.0                2352116.0   \n",
       "1                      1894.0                2429823.0   \n",
       "2                      1808.0                1663984.0   \n",
       "3                      8205.0                1731614.0   \n",
       "4                      8933.0                1908873.0   \n",
       "..                        ...                      ...   \n",
       "180                  312275.0                 972115.0   \n",
       "181                  603177.0                1506454.0   \n",
       "182                  294651.0                 959754.0   \n",
       "183                  311368.0                 666933.0   \n",
       "184                  319057.0                 947652.0   \n",
       "\n",
       "     Daily Vaccinations (SKr)       date  Daily Cases (Aus)  Daily Cases (US)  \\\n",
       "0                      1426.0 2021-02-27                5.0           65735.0   \n",
       "1                       864.0 2021-02-28                8.0           51992.0   \n",
       "2                      1534.0 2021-03-01                8.0           55430.0   \n",
       "3                     66430.0 2021-03-02               10.0           56965.0   \n",
       "4                     69478.0 2021-03-03               11.0           67153.0   \n",
       "..                        ...        ...                ...               ...   \n",
       "180                  370606.0 2021-09-04             1670.0           64318.0   \n",
       "181                 2367457.0 2021-09-07             1696.0          276318.0   \n",
       "182                  680661.0 2021-09-08             1725.0          181533.0   \n",
       "183                  720233.0 2021-09-09             1870.0          159244.0   \n",
       "184                 1059643.0 2021-09-10             2075.0          227215.0   \n",
       "\n",
       "     Daily Cases (SKr)  stringency_index_aus  stringency_index_us  \\\n",
       "0                355.0                 50.46                68.06   \n",
       "1                355.0                 50.46                68.06   \n",
       "2                341.0                 50.46                68.06   \n",
       "3                444.0                 50.46                68.06   \n",
       "4                424.0                 50.46                68.06   \n",
       "..                 ...                   ...                  ...   \n",
       "180             1491.0                 71.76                57.87   \n",
       "181             2049.0                 71.76                57.87   \n",
       "182             2047.0                 71.76                57.87   \n",
       "183             1892.0                 71.76                57.87   \n",
       "184             1865.0                 71.76                57.87   \n",
       "\n",
       "     stringency_index  \n",
       "0               63.89  \n",
       "1               63.89  \n",
       "2               58.33  \n",
       "3               58.33  \n",
       "4               58.33  \n",
       "..                ...  \n",
       "180             50.93  \n",
       "181             47.22  \n",
       "182             47.22  \n",
       "183             47.22  \n",
       "184             47.22  \n",
       "\n",
       "[185 rows x 10 columns]"
      ]
     },
     "execution_count": 13,
     "metadata": {},
     "output_type": "execute_result"
    }
   ],
   "source": [
    "stringency_data = read_file[['date','stringency_index_aus','stringency_index_us','stringency_index']]\n",
    "# Convert date column to datetime data type\n",
    "stringency_data[\"date\"]= pd.to_datetime(stringency_data[\"date\"], dayfirst=True)\n",
    "\n",
    "stringency_df = vac_case_df.merge(stringency_data, how = 'inner', on='date')\n",
    "# Check for any null values and drop them\n",
    "#vac_case_df.isnull().sum()\n",
    "stringency_df = stringency_df.dropna()\n",
    "stringency_df"
   ]
  },
  {
   "cell_type": "code",
   "execution_count": 14,
   "id": "93999222",
   "metadata": {},
   "outputs": [],
   "source": [
    "# Create a scatter plot and linear regression function\n",
    "def linear_regression(x,y):\n",
    "    # Linear regression\n",
    "    (slope, intercept, rvalue, pvalue, stderr) = linregress(x, y)\n",
    "    regress_values = x * slope + intercept\n",
    "    \n",
    "    # Set line equation\n",
    "    line_eq = \"y = \" + str(round(slope,2)) + \"x + \" + str(round(intercept,2))\n",
    "    \n",
    "    # Scatter plot\n",
    "    plt.scatter(x, y)\n",
    "    plt.grid(linewidth=1, alpha = 0.5)\n",
    "    plt.plot(x,regress_values,\"r-\")\n",
    "    \n",
    "    print(f\"The r-value is : {round(st.pearsonr(x, y)[0],2)}\")\n",
    "    \n",
    "    return line_eq\n",
    "\n",
    "# Create an annotation function\n",
    "def annotate(text, a, b):\n",
    "    plt.annotate(text,(a,b),fontsize=15,color=\"red\")"
   ]
  },
  {
   "cell_type": "markdown",
   "id": "13d75b2e",
   "metadata": {},
   "source": [
    "## Line Charts"
   ]
  },
  {
   "cell_type": "code",
   "execution_count": 50,
   "id": "d0ab339d",
   "metadata": {},
   "outputs": [
    {
     "data": {
      "image/png": "[encoded data removed]",
      "text/plain": [
       "<Figure size 432x288 with 1 Axes>"
      ]
     },
     "metadata": {
      "needs_background": "light"
     },
     "output_type": "display_data"
    }
   ],
   "source": [
    "# Line Chart\n",
    "x_axis = vac_case_df[\"date\"]\n",
    "y_axis = vac_case_df[\"Daily Cases (Aus)\"]\n",
    "x2_axis = vac_case_df[\"date\"]\n",
    "y2_axis = vac_case_df[\"Daily Vaccinations (Aus)\"]\n",
    "\n",
    "plt.plot(x_axis, y_axis, linewidth=2, color='red') \n",
    "plt.plot(x2_axis, y2_axis, linewidth=2, color='blue') \n",
    "plt.title(\"Daily Cases and Vaccines in Australia\")\n",
    "plt.xticks(rotation='vertical')\n",
    "plt.xlabel(\"Date\")\n",
    "plt.ylabel(\"Cases\")\n",
    "\n",
    "plt.show()"
   ]
  },
  {
   "cell_type": "code",
   "execution_count": 47,
   "id": "8454957c",
   "metadata": {},
   "outputs": [
    {
     "data": {
      "image/png": "[encoded data removed]",
      "text/plain": [
       "<Figure size 432x288 with 1 Axes>"
      ]
     },
     "metadata": {
      "needs_background": "light"
     },
     "output_type": "display_data"
    }
   ],
   "source": [
    "# Line Chart\n",
    "x_axis = vac_case_df[\"date\"]\n",
    "y_axis = vac_case_df[\"Daily Cases (US)\"]\n",
    "x2_axis = vac_case_df[\"date\"]\n",
    "y2_axis = vac_case_df[\"Daily Vaccinations (US)\"]\n",
    "\n",
    "plt.plot(x_axis, y_axis, linewidth=2,color='red') \n",
    "plt.plot(x2_axis, y2_axis, linewidth=2,color='blue') \n",
    "plt.title(\"Daily Cases and Vaccines in USA\")\n",
    "plt.xticks(rotation='vertical')\n",
    "plt.xlabel(\"Date\")\n",
    "plt.ylabel(\"Cases\")\n",
    "\n",
    "plt.show()"
   ]
  },
  {
   "cell_type": "code",
   "execution_count": 48,
   "id": "4fc393ac",
   "metadata": {},
   "outputs": [
    {
     "data": {
      "image/png": "[encoded data removed]",
      "text/plain": [
       "<Figure size 432x288 with 1 Axes>"
      ]
     },
     "metadata": {
      "needs_background": "light"
     },
     "output_type": "display_data"
    }
   ],
   "source": [
    "# Line Chart\n",
    "x_axis = vac_case_df[\"date\"]\n",
    "y_axis = vac_case_df[\"Daily Cases (SKr)\"]\n",
    "x2_axis = vac_case_df[\"date\"]\n",
    "y2_axis = vac_case_df[\"Daily Vaccinations (SKr)\"]\n",
    "\n",
    "plt.plot(x_axis, y_axis, linewidth=2,color='red') \n",
    "plt.plot(x2_axis, y2_axis, linewidth=2,color='blue') \n",
    "plt.title(\"Daily Cases and Vaccines in South Korea\")\n",
    "plt.xticks(rotation='vertical')\n",
    "plt.xlabel(\"Date\")\n",
    "plt.ylabel(\"Cases\")\n",
    "\n",
    "plt.show()"
   ]
  },
  {
   "cell_type": "code",
   "execution_count": 49,
   "id": "d867779e",
   "metadata": {},
   "outputs": [
    {
     "data": {
      "image/png": "[encoded data removed]",
      "text/plain": [
       "<Figure size 432x288 with 1 Axes>"
      ]
     },
     "metadata": {
      "needs_background": "light"
     },
     "output_type": "display_data"
    }
   ],
   "source": [
    "# Line Chart\n",
    "x_axis = vac_case_df[\"date\"]\n",
    "y_axis = vac_case_df[\"Daily Cases (Aus)\"]\n",
    "x2_axis = vac_case_df[\"date\"]\n",
    "y2_axis = vac_case_df[\"Daily Vaccinations (Aus)\"]\n",
    "\n",
    "plt.plot(x_axis, y_axis, linewidth=2, color='red') \n",
    "plt.plot(x2_axis, y2_axis, linewidth=2, color='blue') \n",
    "plt.title(\"Daily Cases and Vaccines in Australia\")\n",
    "plt.xticks(rotation='vertical')\n",
    "plt.xlabel(\"Date\")\n",
    "plt.ylabel(\"Cases\")\n",
    "\n",
    "plt.show()"
   ]
  },
  {
   "cell_type": "markdown",
   "id": "b2335709",
   "metadata": {},
   "source": [
    "## Date vs. Cases"
   ]
  },
  {
   "cell_type": "code",
   "execution_count": 18,
   "id": "af7e4b3e",
   "metadata": {},
   "outputs": [
    {
     "data": {
      "image/png": "[encoded data removed]",
      "text/plain": [
       "<Figure size 432x288 with 1 Axes>"
      ]
     },
     "metadata": {
      "needs_background": "light"
     },
     "output_type": "display_data"
    }
   ],
   "source": [
    "# Create Scatter Plot\n",
    "plt.plot(vac_case_df[\"date\"], vac_case_df[\"Daily Cases (Aus)\"], linewidth=2)\n",
    "\n",
    "# Set title, labels and gridline\n",
    "plt.title(\"Daily Cases in Australia\")\n",
    "plt.xlabel(\"Date\")\n",
    "plt.ylabel(\"Cases\")\n",
    "plt.xticks(rotation='vertical')\n",
    "plt.grid(linewidth=1, alpha = 0.5)"
   ]
  },
  {
   "cell_type": "code",
   "execution_count": 19,
   "id": "b1e09e09",
   "metadata": {},
   "outputs": [
    {
     "data": {
      "image/png": "[encoded data removed]",
      "text/plain": [
       "<Figure size 432x288 with 1 Axes>"
      ]
     },
     "metadata": {
      "needs_background": "light"
     },
     "output_type": "display_data"
    }
   ],
   "source": [
    "# Create Scatter Plot\n",
    "plt.plot(vac_case_df[\"date\"], vac_case_df[\"Daily Cases (US)\"], linewidth=2)\n",
    "\n",
    "# Set title, labels and gridline\n",
    "plt.title(\"Daily Cases in USA\")\n",
    "plt.xlabel(\"Date\")\n",
    "plt.ylabel(\"Cases\")\n",
    "plt.xticks(rotation='vertical')\n",
    "plt.grid(linewidth=1, alpha = 0.5)"
   ]
  },
  {
   "cell_type": "code",
   "execution_count": 20,
   "id": "eda6b1f8",
   "metadata": {},
   "outputs": [
    {
     "data": {
      "image/png": "[encoded data removed]",
      "text/plain": [
       "<Figure size 432x288 with 1 Axes>"
      ]
     },
     "metadata": {
      "needs_background": "light"
     },
     "output_type": "display_data"
    }
   ],
   "source": [
    "# Create Scatter Plot\n",
    "plt.plot(vac_case_df[\"date\"], vac_case_df[\"Daily Cases (SKr)\"], linewidth=2)\n",
    "\n",
    "# Set title, labels and gridline\n",
    "plt.title(\"Daily Cases in South Korea\")\n",
    "plt.xlabel(\"Date\")\n",
    "plt.ylabel(\"Cases\")\n",
    "plt.xticks(rotation='vertical')\n",
    "plt.grid(linewidth=1, alpha = 0.5)"
   ]
  },
  {
   "cell_type": "markdown",
   "id": "ddee9423",
   "metadata": {},
   "source": [
    "## Date vs. Vaccines"
   ]
  },
  {
   "cell_type": "code",
   "execution_count": 21,
   "id": "7d3a40b4",
   "metadata": {},
   "outputs": [
    {
     "data": {
      "image/png": "[encoded data removed]",
      "text/plain": [
       "<Figure size 432x288 with 1 Axes>"
      ]
     },
     "metadata": {
      "needs_background": "light"
     },
     "output_type": "display_data"
    }
   ],
   "source": [
    "# Create Scatter Plot\n",
    "plt.plot(vac_case_df[\"date\"], vac_case_df[\"Daily Vaccinations (Aus)\"], linewidth=2)\n",
    "\n",
    "# Set title, labels and gridline\n",
    "plt.title(\"Date vs. Vaccines in Australia\")\n",
    "plt.xlabel(\"Date\")\n",
    "plt.ylabel(\"Vaccines\")\n",
    "plt.xticks(rotation='vertical')\n",
    "plt.grid(linewidth=1, alpha = 0.5)\n"
   ]
  },
  {
   "cell_type": "code",
   "execution_count": 22,
   "id": "31bcd364",
   "metadata": {},
   "outputs": [
    {
     "data": {
      "image/png": "[encoded data removed]",
      "text/plain": [
       "<Figure size 432x288 with 1 Axes>"
      ]
     },
     "metadata": {
      "needs_background": "light"
     },
     "output_type": "display_data"
    }
   ],
   "source": [
    "# Create Scatter Plot\n",
    "plt.plot(vac_case_df[\"date\"], vac_case_df[\"Daily Vaccinations (US)\"], linewidth=2)\n",
    "\n",
    "# Set title, labels and gridline\n",
    "plt.title(\"Date vs. Vaccines in USA\")\n",
    "plt.xlabel(\"Date\")\n",
    "plt.ylabel(\"Vaccines\")\n",
    "plt.grid(linewidth=1, alpha = 0.5)\n"
   ]
  },
  {
   "cell_type": "code",
   "execution_count": 23,
   "id": "35416b97",
   "metadata": {},
   "outputs": [
    {
     "data": {
      "image/png": "[encoded data removed]",
      "text/plain": [
       "<Figure size 432x288 with 1 Axes>"
      ]
     },
     "metadata": {
      "needs_background": "light"
     },
     "output_type": "display_data"
    }
   ],
   "source": [
    "# Create Scatter Plot\n",
    "plt.plot(vac_case_df[\"date\"], vac_case_df[\"Daily Vaccinations (SKr)\"], linewidth=2)\n",
    "\n",
    "# Set title, labels and gridline\n",
    "plt.title(\"Date vs. Vaccines in South Korea\")\n",
    "plt.xlabel(\"Date\")\n",
    "plt.ylabel(\"Vaccines\")\n",
    "plt.xticks(rotation='vertical')\n",
    "plt.grid(linewidth=1, alpha = 0.5)\n"
   ]
  },
  {
   "cell_type": "markdown",
   "id": "93c92e2c",
   "metadata": {},
   "source": [
    "## Stringency Comparisons"
   ]
  },
  {
   "cell_type": "markdown",
   "id": "8f37251a",
   "metadata": {},
   "source": [
    "## Obtain Total Vaccines and Total Cases"
   ]
  },
  {
   "cell_type": "code",
   "execution_count": 25,
   "id": "3655f403",
   "metadata": {
    "scrolled": true
   },
   "outputs": [
    {
     "data": {
      "text/html": [
       "<div>\n",
       "<style scoped>\n",
       "    .dataframe tbody tr th:only-of-type {\n",
       "        vertical-align: middle;\n",
       "    }\n",
       "\n",
       "    .dataframe tbody tr th {\n",
       "        vertical-align: top;\n",
       "    }\n",
       "\n",
       "    .dataframe thead th {\n",
       "        text-align: right;\n",
       "    }\n",
       "</style>\n",
       "<table border=\"1\" class=\"dataframe\">\n",
       "  <thead>\n",
       "    <tr style=\"text-align: right;\">\n",
       "      <th></th>\n",
       "      <th>date</th>\n",
       "      <th>Total Vaccinations (Aus)</th>\n",
       "      <th>Total Vaccinations (US)</th>\n",
       "      <th>Total Vaccinations (SKr)</th>\n",
       "      <th>Total Cases (Aus)</th>\n",
       "      <th>Total Cases (US)</th>\n",
       "      <th>Total Cases (SKr)</th>\n",
       "    </tr>\n",
       "  </thead>\n",
       "  <tbody>\n",
       "    <tr>\n",
       "      <th>0</th>\n",
       "      <td>2021-02-26</td>\n",
       "      <td>25000</td>\n",
       "      <td>70454064</td>\n",
       "      <td>24540</td>\n",
       "      <td>28965.0</td>\n",
       "      <td>28583906.0</td>\n",
       "      <td>89321.0</td>\n",
       "    </tr>\n",
       "    <tr>\n",
       "      <th>1</th>\n",
       "      <td>2021-02-27</td>\n",
       "      <td>30000</td>\n",
       "      <td>72806180</td>\n",
       "      <td>25966</td>\n",
       "      <td>28970.0</td>\n",
       "      <td>28649641.0</td>\n",
       "      <td>89676.0</td>\n",
       "    </tr>\n",
       "    <tr>\n",
       "      <th>2</th>\n",
       "      <td>2021-02-28</td>\n",
       "      <td>31894</td>\n",
       "      <td>75236003</td>\n",
       "      <td>26830</td>\n",
       "      <td>28978.0</td>\n",
       "      <td>28701633.0</td>\n",
       "      <td>90031.0</td>\n",
       "    </tr>\n",
       "    <tr>\n",
       "      <th>3</th>\n",
       "      <td>2021-03-01</td>\n",
       "      <td>33702</td>\n",
       "      <td>76899987</td>\n",
       "      <td>28364</td>\n",
       "      <td>28986.0</td>\n",
       "      <td>28757063.0</td>\n",
       "      <td>90372.0</td>\n",
       "    </tr>\n",
       "    <tr>\n",
       "      <th>4</th>\n",
       "      <td>2021-03-02</td>\n",
       "      <td>41907</td>\n",
       "      <td>78631601</td>\n",
       "      <td>94794</td>\n",
       "      <td>28996.0</td>\n",
       "      <td>28814028.0</td>\n",
       "      <td>90816.0</td>\n",
       "    </tr>\n",
       "    <tr>\n",
       "      <th>...</th>\n",
       "      <td>...</td>\n",
       "      <td>...</td>\n",
       "      <td>...</td>\n",
       "      <td>...</td>\n",
       "      <td>...</td>\n",
       "      <td>...</td>\n",
       "      <td>...</td>\n",
       "    </tr>\n",
       "    <tr>\n",
       "      <th>187</th>\n",
       "      <td>2021-09-12</td>\n",
       "      <td>22669372</td>\n",
       "      <td>380241903</td>\n",
       "      <td>51918096</td>\n",
       "      <td>75323.0</td>\n",
       "      <td>41057176.0</td>\n",
       "      <td>274415.0</td>\n",
       "    </tr>\n",
       "    <tr>\n",
       "      <th>188</th>\n",
       "      <td>2021-09-13</td>\n",
       "      <td>22802573</td>\n",
       "      <td>380831725</td>\n",
       "      <td>53161664</td>\n",
       "      <td>76901.0</td>\n",
       "      <td>41317328.0</td>\n",
       "      <td>275910.0</td>\n",
       "    </tr>\n",
       "    <tr>\n",
       "      <th>189</th>\n",
       "      <td>2021-09-14</td>\n",
       "      <td>23078749</td>\n",
       "      <td>381453265</td>\n",
       "      <td>53977761</td>\n",
       "      <td>78544.0</td>\n",
       "      <td>41461662.0</td>\n",
       "      <td>277989.0</td>\n",
       "    </tr>\n",
       "    <tr>\n",
       "      <th>190</th>\n",
       "      <td>2021-09-15</td>\n",
       "      <td>23362740</td>\n",
       "      <td>382294795</td>\n",
       "      <td>54783645</td>\n",
       "      <td>80400.0</td>\n",
       "      <td>41627946.0</td>\n",
       "      <td>279930.0</td>\n",
       "    </tr>\n",
       "    <tr>\n",
       "      <th>191</th>\n",
       "      <td>2021-09-16</td>\n",
       "      <td>23751922</td>\n",
       "      <td>383038403</td>\n",
       "      <td>55514851</td>\n",
       "      <td>82200.0</td>\n",
       "      <td>41785903.0</td>\n",
       "      <td>281938.0</td>\n",
       "    </tr>\n",
       "  </tbody>\n",
       "</table>\n",
       "<p>192 rows × 7 columns</p>\n",
       "</div>"
      ],
      "text/plain": [
       "          date  Total Vaccinations (Aus)  Total Vaccinations (US)  \\\n",
       "0   2021-02-26                     25000                 70454064   \n",
       "1   2021-02-27                     30000                 72806180   \n",
       "2   2021-02-28                     31894                 75236003   \n",
       "3   2021-03-01                     33702                 76899987   \n",
       "4   2021-03-02                     41907                 78631601   \n",
       "..         ...                       ...                      ...   \n",
       "187 2021-09-12                  22669372                380241903   \n",
       "188 2021-09-13                  22802573                380831725   \n",
       "189 2021-09-14                  23078749                381453265   \n",
       "190 2021-09-15                  23362740                382294795   \n",
       "191 2021-09-16                  23751922                383038403   \n",
       "\n",
       "     Total Vaccinations (SKr)  Total Cases (Aus)  Total Cases (US)  \\\n",
       "0                       24540            28965.0        28583906.0   \n",
       "1                       25966            28970.0        28649641.0   \n",
       "2                       26830            28978.0        28701633.0   \n",
       "3                       28364            28986.0        28757063.0   \n",
       "4                       94794            28996.0        28814028.0   \n",
       "..                        ...                ...               ...   \n",
       "187                  51918096            75323.0        41057176.0   \n",
       "188                  53161664            76901.0        41317328.0   \n",
       "189                  53977761            78544.0        41461662.0   \n",
       "190                  54783645            80400.0        41627946.0   \n",
       "191                  55514851            82200.0        41785903.0   \n",
       "\n",
       "     Total Cases (SKr)  \n",
       "0              89321.0  \n",
       "1              89676.0  \n",
       "2              90031.0  \n",
       "3              90372.0  \n",
       "4              90816.0  \n",
       "..                 ...  \n",
       "187           274415.0  \n",
       "188           275910.0  \n",
       "189           277989.0  \n",
       "190           279930.0  \n",
       "191           281938.0  \n",
       "\n",
       "[192 rows x 7 columns]"
      ]
     },
     "execution_count": 25,
     "metadata": {},
     "output_type": "execute_result"
    }
   ],
   "source": [
    "# Get the two Dataframes\n",
    "total_vaccines = merged_df2[['date', 'Total Vaccinations (Aus)', 'Total Vaccinations (US)', 'Total Vaccinations (SKr)']]\n",
    "total_cases = cases_file[['date', 'Total Cases (Aus)', 'Total Cases (US)', 'Total Cases (SKr)']]\n",
    "\n",
    "# Merging the Dataframes\n",
    "total_vac_case = total_vaccines.merge(total_cases, on='date')\n",
    "total_vac_case"
   ]
  },
  {
   "cell_type": "markdown",
   "id": "27626ed1",
   "metadata": {},
   "source": [
    "## Regression Attempt  (Total)"
   ]
  },
  {
   "cell_type": "code",
   "execution_count": 26,
   "id": "fa729ef0",
   "metadata": {},
   "outputs": [
    {
     "name": "stdout",
     "output_type": "stream",
     "text": [
      "The r-value is : 0.85\n"
     ]
    },
    {
     "data": {
      "text/plain": [
       "Text(0, 0.5, 'Total Vaccines')"
      ]
     },
     "execution_count": 26,
     "metadata": {},
     "output_type": "execute_result"
    },
    {
     "data": {
      "image/png": "[encoded data removed]",
      "text/plain": [
       "<Figure size 432x288 with 1 Axes>"
      ]
     },
     "metadata": {
      "needs_background": "light"
     },
     "output_type": "display_data"
    }
   ],
   "source": [
    "# Total Cases vs. Vaccinations Aus\n",
    "equation = linear_regression(total_vac_case[\"Total Cases (Aus)\"],total_vac_case[\"Total Vaccinations (Aus)\"])\n",
    "annotate(equation, 40000,5000000)\n",
    "\n",
    "# Set title, labels and gridline\n",
    "plt.title(\"Total Cases vs. Total Vaccinations in Australia\")\n",
    "plt.xlabel(\"Total Cases\")\n",
    "plt.ylabel(\"Total Vaccines\")"
   ]
  },
  {
   "cell_type": "markdown",
   "id": "1408978e",
   "metadata": {},
   "source": [
    "There is a strong positive linear relationship between case numbers and vaccinations numbers in Australia (0.85). As cases increase by 1 unit, vaccines increases by 0.85 units. "
   ]
  },
  {
   "cell_type": "code",
   "execution_count": 51,
   "id": "1e8187b7",
   "metadata": {
    "scrolled": true
   },
   "outputs": [
    {
     "name": "stdout",
     "output_type": "stream",
     "text": [
      "The r-value is : 0.88\n"
     ]
    },
    {
     "data": {
      "text/plain": [
       "Text(0, 0.5, 'Total Vaccines')"
      ]
     },
     "execution_count": 51,
     "metadata": {},
     "output_type": "execute_result"
    },
    {
     "data": {
      "image/png": "[encoded data removed]",
      "text/plain": [
       "<Figure size 432x288 with 1 Axes>"
      ]
     },
     "metadata": {
      "needs_background": "light"
     },
     "output_type": "display_data"
    }
   ],
   "source": [
    "# Total Cases vs. Vaccinations US\n",
    "equation = linear_regression(total_vac_case[\"Total Vaccinations (US)\"],total_vac_case[\"Total Cases (US)\"])\n",
    "annotate(equation, 100000000, 38000000)\n",
    "# Set title, labels and gridline\n",
    "plt.title(\"Total Cases vs. Total Vaccinations in Australia\")\n",
    "plt.xlabel(\"Total Cases\")\n",
    "plt.ylabel(\"Total Vaccines\")"
   ]
  },
  {
   "cell_type": "code",
   "execution_count": 52,
   "id": "4ef57539",
   "metadata": {},
   "outputs": [
    {
     "name": "stdout",
     "output_type": "stream",
     "text": [
      "The r-value is : 0.99\n"
     ]
    },
    {
     "data": {
      "text/plain": [
       "Text(0, 0.5, 'Total Vaccines')"
      ]
     },
     "execution_count": 52,
     "metadata": {},
     "output_type": "execute_result"
    },
    {
     "data": {
      "image/png": "[encoded data removed]",
      "text/plain": [
       "<Figure size 432x288 with 1 Axes>"
      ]
     },
     "metadata": {
      "needs_background": "light"
     },
     "output_type": "display_data"
    }
   ],
   "source": [
    "# Total Cases vs. Vaccinations SKr\n",
    "equation = linear_regression(total_vac_case[\"Total Vaccinations (SKr)\"],total_vac_case[\"Total Cases (SKr)\"])\n",
    "annotate(equation, 5000000, 250000)\n",
    "# Set title, labels and gridline\n",
    "plt.title(\"Total Cases vs. Total Vaccinations in Australia\")\n",
    "plt.xlabel(\"Total Cases\")\n",
    "plt.ylabel(\"Total Vaccines\")"
   ]
  },
  {
   "cell_type": "markdown",
   "id": "70eb7cc4",
   "metadata": {},
   "source": [
    "## Date vs. Total Cases"
   ]
  },
  {
   "cell_type": "code",
   "execution_count": 29,
   "id": "23938d54",
   "metadata": {},
   "outputs": [
    {
     "data": {
      "image/png": "[encoded data removed]",
      "text/plain": [
       "<Figure size 432x288 with 1 Axes>"
      ]
     },
     "metadata": {
      "needs_background": "light"
     },
     "output_type": "display_data"
    }
   ],
   "source": [
    "# Create Scatter Plot\n",
    "plt.plot(total_vac_case[\"date\"], total_vac_case[\"Total Cases (Aus)\"], linewidth=2)\n",
    "\n",
    "# Set title, labels and gridline\n",
    "plt.title(\"Date vs. Total Cases in Australia\")\n",
    "plt.xlabel(\"Date\")\n",
    "plt.ylabel(\"Cases\")\n",
    "plt.xticks(rotation='vertical')\n",
    "plt.grid(linewidth=1, alpha = 0.5)"
   ]
  },
  {
   "cell_type": "code",
   "execution_count": 30,
   "id": "0ab9d942",
   "metadata": {},
   "outputs": [
    {
     "data": {
      "image/png": "[encoded data removed]",
      "text/plain": [
       "<Figure size 432x288 with 1 Axes>"
      ]
     },
     "metadata": {
      "needs_background": "light"
     },
     "output_type": "display_data"
    }
   ],
   "source": [
    "# Create Scatter Plot\n",
    "plt.plot(total_vac_case[\"date\"], total_vac_case[\"Total Cases (US)\"], linewidth=2)\n",
    "\n",
    "# Set title, labels and gridline\n",
    "plt.title(\"Date vs. Total Cases in USA\")\n",
    "plt.xlabel(\"Date\")\n",
    "plt.ylabel(\"Cases\")\n",
    "plt.xticks(rotation='vertical')\n",
    "plt.grid(linewidth=1, alpha = 0.5)"
   ]
  },
  {
   "cell_type": "code",
   "execution_count": 31,
   "id": "110228c1",
   "metadata": {},
   "outputs": [
    {
     "data": {
      "image/png": "[encoded data removed]",
      "text/plain": [
       "<Figure size 432x288 with 1 Axes>"
      ]
     },
     "metadata": {
      "needs_background": "light"
     },
     "output_type": "display_data"
    }
   ],
   "source": [
    "# Create line chart\n",
    "plt.plot(total_vac_case[\"date\"], total_vac_case[\"Total Cases (SKr)\"], linewidth=2)\n",
    "\n",
    "# Set title, labels and gridline\n",
    "plt.title(\"Date vs. Total Cases in South Korea\")\n",
    "plt.xlabel(\"Date\")\n",
    "plt.ylabel(\"Cases\")\n",
    "plt.xticks(rotation='vertical')\n",
    "plt.grid(linewidth=1, alpha = 0.5)"
   ]
  },
  {
   "cell_type": "markdown",
   "id": "3a4e3c94",
   "metadata": {},
   "source": [
    "## Date vs. Total Vaccines"
   ]
  },
  {
   "cell_type": "code",
   "execution_count": 32,
   "id": "e167f426",
   "metadata": {},
   "outputs": [
    {
     "data": {
      "image/png": "[encoded data removed]",
      "text/plain": [
       "<Figure size 432x288 with 1 Axes>"
      ]
     },
     "metadata": {
      "needs_background": "light"
     },
     "output_type": "display_data"
    }
   ],
   "source": [
    "# Create line chart\n",
    "plt.plot(total_vac_case[\"date\"], total_vac_case[\"Total Vaccinations (Aus)\"], linewidth=2)\n",
    "\n",
    "# Set title, labels and gridline\n",
    "plt.title(\"Date vs. Total Vaccinations in Australia\")\n",
    "plt.xlabel(\"Date\")\n",
    "plt.ylabel(\"Vaccinations\")\n",
    "plt.xticks(rotation='vertical')\n",
    "plt.grid(linewidth=1, alpha = 0.5)"
   ]
  },
  {
   "cell_type": "code",
   "execution_count": 33,
   "id": "3673212b",
   "metadata": {},
   "outputs": [
    {
     "data": {
      "image/png": "[encoded data removed]",
      "text/plain": [
       "<Figure size 432x288 with 1 Axes>"
      ]
     },
     "metadata": {
      "needs_background": "light"
     },
     "output_type": "display_data"
    }
   ],
   "source": [
    "# Create line chart\n",
    "plt.plot(total_vac_case[\"date\"], total_vac_case[\"Total Vaccinations (US)\"], linewidth=2)\n",
    "\n",
    "# Set title, labels and gridline\n",
    "plt.title(\"Date vs. Total Vaccinations in USA\")\n",
    "plt.xlabel(\"Date\")\n",
    "plt.ylabel(\"Vaccinations\")\n",
    "plt.xticks(rotation='vertical')\n",
    "plt.grid(linewidth=1, alpha = 0.5)"
   ]
  },
  {
   "cell_type": "code",
   "execution_count": 34,
   "id": "2c7932ac",
   "metadata": {
    "scrolled": true
   },
   "outputs": [
    {
     "data": {
      "image/png": "[encoded data removed]",
      "text/plain": [
       "<Figure size 432x288 with 1 Axes>"
      ]
     },
     "metadata": {
      "needs_background": "light"
     },
     "output_type": "display_data"
    }
   ],
   "source": [
    "# Create line chart\n",
    "plt.plot(total_vac_case[\"date\"], total_vac_case[\"Total Vaccinations (SKr)\"], linewidth=2)\n",
    "\n",
    "# Set title, labels and gridline\n",
    "plt.title(\"Date vs. Total Vaccinations in South Korea\")\n",
    "plt.xlabel(\"Date\")\n",
    "plt.ylabel(\"Vaccinations\")\n",
    "plt.xticks(rotation='vertical')\n",
    "plt.grid(linewidth=1, alpha = 0.5)"
   ]
  },
  {
   "cell_type": "markdown",
   "id": "bd5e7c3b",
   "metadata": {},
   "source": [
    "## Weekly Average Data"
   ]
  },
  {
   "cell_type": "code",
   "execution_count": 35,
   "id": "30aec4d1",
   "metadata": {},
   "outputs": [],
   "source": [
    "# Weekly data \n",
    "file_to_load = \"Resources/weekly_average_data.csv\"\n",
    "read_file = pd.read_csv(file_to_load)\n",
    "#read_file.head()"
   ]
  },
  {
   "cell_type": "code",
   "execution_count": 36,
   "id": "7316b442",
   "metadata": {},
   "outputs": [],
   "source": [
    "weekly_data = read_file.rename(columns = {\"Daily Vaccinations (Aus)\" :\"Weekly Average Vaccinations (Aus)\",\n",
    "                             \"Daily Vaccinations (US)\": \"Weekly Average Vaccinations (US)\",\n",
    "                            \"Daily Vaccinations (SKr)\" : \"Weekly Average Vaccinations (SKr)\",\n",
    "                            \"Daily Cases (Aus)\" :\"Weekly Average Cases (Aus)\",\n",
    "                            \"Daily Cases (US)\": \"Weekly Average Cases (US)\",\n",
    "                             \"Daily Cases (SKr)\" : \"Weekly Average Cases (SKr)\"})"
   ]
  },
  {
   "cell_type": "code",
   "execution_count": 37,
   "id": "0da41d3d",
   "metadata": {},
   "outputs": [],
   "source": [
    "# Convert date column to datetime data type into \n",
    "weekly_data['date'] = pd.to_datetime(weekly_data['date'], dayfirst=True)\n",
    "#weekly_data['date'] = weekly_data['date'].astype('int')"
   ]
  },
  {
   "cell_type": "code",
   "execution_count": 38,
   "id": "ff5a6cc7",
   "metadata": {},
   "outputs": [],
   "source": [
    "week = [2.4,3.1,3.2,3.3,3.4,4.1,4.2,4.3,4.4,5.1,5.2,5.3,5.4,5.5,6.1,6.2,6.3,6.4,7.1,7.2,7.3,7.4,8.1,8.2,8.3,8.4,8.5,9.1,9.2,9.3]\n",
    "# Using DataFrame.insert() to add a column\n",
    "weekly_data.insert(1, \"Month.Week\", week, True)"
   ]
  },
  {
   "cell_type": "code",
   "execution_count": 39,
   "id": "c0bd466e",
   "metadata": {},
   "outputs": [
    {
     "name": "stdout",
     "output_type": "stream",
     "text": [
      "<class 'pandas.core.frame.DataFrame'>\n",
      "RangeIndex: 30 entries, 0 to 29\n",
      "Data columns (total 8 columns):\n",
      " #   Column                             Non-Null Count  Dtype         \n",
      "---  ------                             --------------  -----         \n",
      " 0   date                               30 non-null     datetime64[ns]\n",
      " 1   Month.Week                         30 non-null     float64       \n",
      " 2   Weekly Average Vaccinations (Aus)  30 non-null     float64       \n",
      " 3   Weekly Average Vaccinations (US)   30 non-null     float64       \n",
      " 4   Weekly Average Vaccinations (SKr)  30 non-null     float64       \n",
      " 5   Weekly Average Cases (Aus)         30 non-null     float64       \n",
      " 6   Weekly Average Cases (US)          30 non-null     float64       \n",
      " 7   Weekly Average Cases (SKr)         30 non-null     float64       \n",
      "dtypes: datetime64[ns](1), float64(7)\n",
      "memory usage: 2.0 KB\n"
     ]
    }
   ],
   "source": [
    "weekly_data.info()"
   ]
  },
  {
   "cell_type": "code",
   "execution_count": 40,
   "id": "e1eb2f94",
   "metadata": {},
   "outputs": [
    {
     "data": {
      "image/png": "[encoded data removed]",
      "text/plain": [
       "<Figure size 432x288 with 1 Axes>"
      ]
     },
     "metadata": {
      "needs_background": "light"
     },
     "output_type": "display_data"
    }
   ],
   "source": [
    "# Create line chart\n",
    "plt.plot(weekly_data[\"Month.Week\"], weekly_data[\"Weekly Average Vaccinations (Aus)\"], linewidth=2)\n",
    "\n",
    "# Set title, labels and gridline\n",
    "plt.title(\"Date vs. Weekly Average Vaccinations (Aus)\")\n",
    "plt.xlabel(\"Date\")\n",
    "plt.ylabel(\"Vaccinations\")\n",
    "plt.xticks(rotation='vertical')\n",
    "plt.grid(linewidth=1, alpha = 0.5)"
   ]
  },
  {
   "cell_type": "code",
   "execution_count": 75,
   "id": "0859c6e2",
   "metadata": {},
   "outputs": [
    {
     "name": "stdout",
     "output_type": "stream",
     "text": [
      "The r-value is : -0.85\n"
     ]
    },
    {
     "data": {
      "text/plain": [
       "(array([ 2.,  3.,  4.,  5.,  6.,  7.,  8.,  9., 10.]),\n",
       " [Text(0, 0, ''),\n",
       "  Text(0, 0, ''),\n",
       "  Text(0, 0, ''),\n",
       "  Text(0, 0, ''),\n",
       "  Text(0, 0, ''),\n",
       "  Text(0, 0, ''),\n",
       "  Text(0, 0, ''),\n",
       "  Text(0, 0, ''),\n",
       "  Text(0, 0, '')])"
      ]
     },
     "execution_count": 75,
     "metadata": {},
     "output_type": "execute_result"
    },
    {
     "data": {
      "image/png": "[encoded data removed]",
      "text/plain": [
       "<Figure size 432x288 with 1 Axes>"
      ]
     },
     "metadata": {
      "needs_background": "light"
     },
     "output_type": "display_data"
    }
   ],
   "source": [
    "# Weekly Average Cases regression analysis\n",
    "equation = linear_regression(weekly_data[\"Month.Week\"], weekly_data[\"Weekly Average Vaccinations (US)\"])\n",
    "annotate(equation, 0,0)\n",
    "\n",
    "# Set title, labels and gridline\n",
    "plt.title(\"Forecasting Weekly Average Vaccination in US\")\n",
    "plt.xlabel(\"Month of 2021\")\n",
    "plt.ylabel(\"Average Vaccinations\")\n",
    "plt.xticks(rotation='vertical')"
   ]
  },
  {
   "cell_type": "code",
   "execution_count": 76,
   "id": "36788c6c",
   "metadata": {},
   "outputs": [
    {
     "name": "stdout",
     "output_type": "stream",
     "text": [
      "y = -361363.14x + 3813973.71\n"
     ]
    }
   ],
   "source": [
    "print(equation)\n",
    "#print(f\"The average weekly vaccination in October will be {round(slope * 10 + intercept,2)} in the US.\")\n",
    "\n",
    "#regress_values = x * slope + intercept"
   ]
  },
  {
   "cell_type": "code",
   "execution_count": 72,
   "id": "c981d435",
   "metadata": {},
   "outputs": [
    {
     "name": "stdout",
     "output_type": "stream",
     "text": [
      "The r-value is : 0.95\n"
     ]
    },
    {
     "data": {
      "text/plain": [
       "(array([ 2.,  3.,  4.,  5.,  6.,  7.,  8.,  9., 10.]),\n",
       " [Text(0, 0, ''),\n",
       "  Text(0, 0, ''),\n",
       "  Text(0, 0, ''),\n",
       "  Text(0, 0, ''),\n",
       "  Text(0, 0, ''),\n",
       "  Text(0, 0, ''),\n",
       "  Text(0, 0, ''),\n",
       "  Text(0, 0, ''),\n",
       "  Text(0, 0, '')])"
      ]
     },
     "execution_count": 72,
     "metadata": {},
     "output_type": "execute_result"
    },
    {
     "data": {
      "image/png": "[encoded data removed]",
      "text/plain": [
       "<Figure size 432x288 with 1 Axes>"
      ]
     },
     "metadata": {
      "needs_background": "light"
     },
     "output_type": "display_data"
    }
   ],
   "source": [
    "# Weekly Average Cases vs. Weekly Average Aus\n",
    "equation = linear_regression(weekly_data[\"Month.Week\"],weekly_data[\"Weekly Average Vaccinations (Aus)\"])\n",
    "annotate(equation, 0,0)\n",
    "\n",
    "# Set title, labels and gridline\n",
    "plt.title(\"Forecasting Weekly Average Vaccination in Australia\")\n",
    "plt.xlabel(\"Month of 2021\")\n",
    "plt.ylabel(\"Average Vaccinations\")\n",
    "plt.xticks(rotation='vertical')"
   ]
  },
  {
   "cell_type": "code",
   "execution_count": 74,
   "id": "2d86509c",
   "metadata": {},
   "outputs": [
    {
     "name": "stdout",
     "output_type": "stream",
     "text": [
      "y = 44143.52x + -140748.4\n"
     ]
    }
   ],
   "source": [
    "print(equation)\n",
    "#print(f\"The average weekly vaccination in October will be {round(slope * 10 + intercept,2)}.\")\n",
    "\n",
    "#regress_values = x * slope + intercept"
   ]
  },
  {
   "cell_type": "code",
   "execution_count": 70,
   "id": "008a4b4c",
   "metadata": {},
   "outputs": [
    {
     "name": "stdout",
     "output_type": "stream",
     "text": [
      "The r-value is : 0.8\n"
     ]
    },
    {
     "data": {
      "text/plain": [
       "(array([ 2.,  3.,  4.,  5.,  6.,  7.,  8.,  9., 10.]),\n",
       " [Text(0, 0, ''),\n",
       "  Text(0, 0, ''),\n",
       "  Text(0, 0, ''),\n",
       "  Text(0, 0, ''),\n",
       "  Text(0, 0, ''),\n",
       "  Text(0, 0, ''),\n",
       "  Text(0, 0, ''),\n",
       "  Text(0, 0, ''),\n",
       "  Text(0, 0, '')])"
      ]
     },
     "execution_count": 70,
     "metadata": {},
     "output_type": "execute_result"
    },
    {
     "data": {
      "image/png": "[encoded data removed]",
      "text/plain": [
       "<Figure size 432x288 with 1 Axes>"
      ]
     },
     "metadata": {
      "needs_background": "light"
     },
     "output_type": "display_data"
    }
   ],
   "source": [
    "# Weekly Average Cases vs. Weekly Average South Korea\n",
    "equation = linear_regression(weekly_data[\"Month.Week\"],weekly_data[\"Weekly Average Vaccinations (SKr)\"])\n",
    "annotate(equation, 0,0)\n",
    "\n",
    "# Set title, labels and gridline\n",
    "plt.title(\"Forecasting Weekly Average Vaccination in South Korea\")\n",
    "plt.xlabel(\"Month of 2021\")\n",
    "plt.ylabel(\"Average Vaccinations\")\n",
    "plt.xticks(rotation='vertical')"
   ]
  },
  {
   "cell_type": "code",
   "execution_count": 71,
   "id": "22df4a52",
   "metadata": {},
   "outputs": [
    {
     "name": "stdout",
     "output_type": "stream",
     "text": [
      "y = 115648.01x + -402438.18\n"
     ]
    }
   ],
   "source": [
    "print(equation)"
   ]
  },
  {
   "cell_type": "code",
   "execution_count": null,
   "id": "9a41ff84",
   "metadata": {},
   "outputs": [],
   "source": []
  },
  {
   "cell_type": "code",
   "execution_count": null,
   "id": "cc876daf",
   "metadata": {},
   "outputs": [],
   "source": []
  }
 ],
 "metadata": {
  "kernelspec": {
   "display_name": "Python 3",
   "language": "python",
   "name": "python3"
  },
  "language_info": {
   "codemirror_mode": {
    "name": "ipython",
    "version": 3
   },
   "file_extension": ".py",
   "mimetype": "text/x-python",
   "name": "python",
   "nbconvert_exporter": "python",
   "pygments_lexer": "ipython3",
   "version": "3.8.8"
  }
 },
 "nbformat": 4,
 "nbformat_minor": 5
}
