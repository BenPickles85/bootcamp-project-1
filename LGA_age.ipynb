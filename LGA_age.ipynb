{
 "cells": [
  {
   "cell_type": "markdown",
   "metadata": {},
   "source": []
  },
  {
   "cell_type": "code",
   "execution_count": 29,
   "metadata": {},
   "outputs": [],
   "source": [
    "# Dependencies and Setup\n",
    "import matplotlib.pyplot as plt\n",
    "import pandas as pd\n",
    "import scipy.stats as sts\n",
    "from scipy.stats import linregress\n",
    "import numpy as np\n",
    "from scipy.stats import sem\n",
    "import scipy.stats as st\n"
   ]
  },
  {
   "cell_type": "code",
   "execution_count": 30,
   "metadata": {},
   "outputs": [],
   "source": [
    "# File to Load (Remember to Change These)\n",
    "file_to_load = \"Resources/ABS_age_stats.csv\"\n",
    "\n",
    "# Read Purchasing File and store into Pandas data frame\n",
    "LGA_age_df = pd.read_csv(file_to_load)\n"
   ]
  },
  {
   "cell_type": "markdown",
   "metadata": {},
   "source": [
    "## Victoria COVID - 19 Cases by Age Group"
   ]
  },
  {
   "cell_type": "code",
   "execution_count": null,
   "metadata": {},
   "outputs": [],
   "source": []
  },
  {
   "cell_type": "markdown",
   "metadata": {},
   "source": []
  },
  {
   "cell_type": "code",
   "execution_count": 31,
   "metadata": {},
   "outputs": [],
   "source": [
    "#Date format\n",
    "#covid_agegroup_df[\"diagnosis_date\"]= pd.to_datetime(covid_agegroup_df[\"diagnosis_date\"])"
   ]
  },
  {
   "cell_type": "code",
   "execution_count": 32,
   "metadata": {},
   "outputs": [
    {
     "data": {
      "text/html": [
       "<div>\n",
       "<style scoped>\n",
       "    .dataframe tbody tr th:only-of-type {\n",
       "        vertical-align: middle;\n",
       "    }\n",
       "\n",
       "    .dataframe tbody tr th {\n",
       "        vertical-align: top;\n",
       "    }\n",
       "\n",
       "    .dataframe thead th {\n",
       "        text-align: right;\n",
       "    }\n",
       "</style>\n",
       "<table border=\"1\" class=\"dataframe\">\n",
       "  <thead>\n",
       "    <tr style=\"text-align: right;\">\n",
       "      <th></th>\n",
       "      <th>Unnamed: 0</th>\n",
       "      <th>S/T code</th>\n",
       "      <th>S/T name</th>\n",
       "      <th>LGA code</th>\n",
       "      <th>LGA name</th>\n",
       "      <th>0-4</th>\n",
       "      <th>5–9</th>\n",
       "      <th>10–14</th>\n",
       "      <th>15–19</th>\n",
       "      <th>20–24</th>\n",
       "      <th>...</th>\n",
       "      <th>45–49</th>\n",
       "      <th>50–54</th>\n",
       "      <th>55–59</th>\n",
       "      <th>60–64</th>\n",
       "      <th>65–69</th>\n",
       "      <th>70–74</th>\n",
       "      <th>75–79</th>\n",
       "      <th>80–84</th>\n",
       "      <th>85 and over</th>\n",
       "      <th>Total persons</th>\n",
       "    </tr>\n",
       "  </thead>\n",
       "  <tbody>\n",
       "    <tr>\n",
       "      <th>0</th>\n",
       "      <td>0</td>\n",
       "      <td>2</td>\n",
       "      <td>Victoria</td>\n",
       "      <td>20110</td>\n",
       "      <td>Alpine (S)</td>\n",
       "      <td>554</td>\n",
       "      <td>668</td>\n",
       "      <td>847</td>\n",
       "      <td>692</td>\n",
       "      <td>549</td>\n",
       "      <td>...</td>\n",
       "      <td>949</td>\n",
       "      <td>847</td>\n",
       "      <td>1066</td>\n",
       "      <td>1076</td>\n",
       "      <td>956</td>\n",
       "      <td>935</td>\n",
       "      <td>579</td>\n",
       "      <td>404</td>\n",
       "      <td>355</td>\n",
       "      <td>12973</td>\n",
       "    </tr>\n",
       "    <tr>\n",
       "      <th>1</th>\n",
       "      <td>1</td>\n",
       "      <td>2</td>\n",
       "      <td>Victoria</td>\n",
       "      <td>20260</td>\n",
       "      <td>Ararat (RC)</td>\n",
       "      <td>598</td>\n",
       "      <td>626</td>\n",
       "      <td>679</td>\n",
       "      <td>611</td>\n",
       "      <td>546</td>\n",
       "      <td>...</td>\n",
       "      <td>736</td>\n",
       "      <td>870</td>\n",
       "      <td>849</td>\n",
       "      <td>919</td>\n",
       "      <td>851</td>\n",
       "      <td>733</td>\n",
       "      <td>547</td>\n",
       "      <td>359</td>\n",
       "      <td>378</td>\n",
       "      <td>11965</td>\n",
       "    </tr>\n",
       "    <tr>\n",
       "      <th>2</th>\n",
       "      <td>2</td>\n",
       "      <td>2</td>\n",
       "      <td>Victoria</td>\n",
       "      <td>20570</td>\n",
       "      <td>Ballarat (C)</td>\n",
       "      <td>6995</td>\n",
       "      <td>7201</td>\n",
       "      <td>7267</td>\n",
       "      <td>6674</td>\n",
       "      <td>8053</td>\n",
       "      <td>...</td>\n",
       "      <td>6914</td>\n",
       "      <td>6423</td>\n",
       "      <td>6759</td>\n",
       "      <td>6350</td>\n",
       "      <td>5692</td>\n",
       "      <td>5140</td>\n",
       "      <td>3513</td>\n",
       "      <td>2425</td>\n",
       "      <td>2540</td>\n",
       "      <td>111361</td>\n",
       "    </tr>\n",
       "    <tr>\n",
       "      <th>3</th>\n",
       "      <td>3</td>\n",
       "      <td>2</td>\n",
       "      <td>Victoria</td>\n",
       "      <td>20660</td>\n",
       "      <td>Banyule (C)</td>\n",
       "      <td>7815</td>\n",
       "      <td>8379</td>\n",
       "      <td>7837</td>\n",
       "      <td>6900</td>\n",
       "      <td>7831</td>\n",
       "      <td>...</td>\n",
       "      <td>9043</td>\n",
       "      <td>8224</td>\n",
       "      <td>7719</td>\n",
       "      <td>7386</td>\n",
       "      <td>6601</td>\n",
       "      <td>6061</td>\n",
       "      <td>4551</td>\n",
       "      <td>3134</td>\n",
       "      <td>3358</td>\n",
       "      <td>131940</td>\n",
       "    </tr>\n",
       "    <tr>\n",
       "      <th>4</th>\n",
       "      <td>4</td>\n",
       "      <td>2</td>\n",
       "      <td>Victoria</td>\n",
       "      <td>20740</td>\n",
       "      <td>Bass Coast (S)</td>\n",
       "      <td>1886</td>\n",
       "      <td>2125</td>\n",
       "      <td>2086</td>\n",
       "      <td>1887</td>\n",
       "      <td>1368</td>\n",
       "      <td>...</td>\n",
       "      <td>2162</td>\n",
       "      <td>2261</td>\n",
       "      <td>2732</td>\n",
       "      <td>3105</td>\n",
       "      <td>3228</td>\n",
       "      <td>2901</td>\n",
       "      <td>1967</td>\n",
       "      <td>1175</td>\n",
       "      <td>1213</td>\n",
       "      <td>37445</td>\n",
       "    </tr>\n",
       "    <tr>\n",
       "      <th>...</th>\n",
       "      <td>...</td>\n",
       "      <td>...</td>\n",
       "      <td>...</td>\n",
       "      <td>...</td>\n",
       "      <td>...</td>\n",
       "      <td>...</td>\n",
       "      <td>...</td>\n",
       "      <td>...</td>\n",
       "      <td>...</td>\n",
       "      <td>...</td>\n",
       "      <td>...</td>\n",
       "      <td>...</td>\n",
       "      <td>...</td>\n",
       "      <td>...</td>\n",
       "      <td>...</td>\n",
       "      <td>...</td>\n",
       "      <td>...</td>\n",
       "      <td>...</td>\n",
       "      <td>...</td>\n",
       "      <td>...</td>\n",
       "      <td>...</td>\n",
       "    </tr>\n",
       "    <tr>\n",
       "      <th>75</th>\n",
       "      <td>75</td>\n",
       "      <td>2</td>\n",
       "      <td>Victoria</td>\n",
       "      <td>27260</td>\n",
       "      <td>Wyndham (C)</td>\n",
       "      <td>26445</td>\n",
       "      <td>26080</td>\n",
       "      <td>20257</td>\n",
       "      <td>15712</td>\n",
       "      <td>16462</td>\n",
       "      <td>...</td>\n",
       "      <td>17127</td>\n",
       "      <td>13799</td>\n",
       "      <td>12263</td>\n",
       "      <td>10603</td>\n",
       "      <td>8273</td>\n",
       "      <td>6221</td>\n",
       "      <td>3868</td>\n",
       "      <td>2333</td>\n",
       "      <td>1925</td>\n",
       "      <td>283294</td>\n",
       "    </tr>\n",
       "    <tr>\n",
       "      <th>76</th>\n",
       "      <td>76</td>\n",
       "      <td>2</td>\n",
       "      <td>Victoria</td>\n",
       "      <td>27350</td>\n",
       "      <td>Yarra (C)</td>\n",
       "      <td>4515</td>\n",
       "      <td>3497</td>\n",
       "      <td>3059</td>\n",
       "      <td>2993</td>\n",
       "      <td>7520</td>\n",
       "      <td>...</td>\n",
       "      <td>5581</td>\n",
       "      <td>5317</td>\n",
       "      <td>4884</td>\n",
       "      <td>4545</td>\n",
       "      <td>3577</td>\n",
       "      <td>3200</td>\n",
       "      <td>2137</td>\n",
       "      <td>1401</td>\n",
       "      <td>1385</td>\n",
       "      <td>103125</td>\n",
       "    </tr>\n",
       "    <tr>\n",
       "      <th>77</th>\n",
       "      <td>77</td>\n",
       "      <td>2</td>\n",
       "      <td>Victoria</td>\n",
       "      <td>27450</td>\n",
       "      <td>Yarra Ranges (S)</td>\n",
       "      <td>9650</td>\n",
       "      <td>10302</td>\n",
       "      <td>10207</td>\n",
       "      <td>9766</td>\n",
       "      <td>9857</td>\n",
       "      <td>...</td>\n",
       "      <td>11382</td>\n",
       "      <td>10828</td>\n",
       "      <td>10565</td>\n",
       "      <td>9734</td>\n",
       "      <td>8315</td>\n",
       "      <td>7318</td>\n",
       "      <td>4941</td>\n",
       "      <td>3063</td>\n",
       "      <td>2943</td>\n",
       "      <td>159955</td>\n",
       "    </tr>\n",
       "    <tr>\n",
       "      <th>78</th>\n",
       "      <td>78</td>\n",
       "      <td>2</td>\n",
       "      <td>Victoria</td>\n",
       "      <td>27630</td>\n",
       "      <td>Yarriambiack (S)</td>\n",
       "      <td>319</td>\n",
       "      <td>336</td>\n",
       "      <td>449</td>\n",
       "      <td>357</td>\n",
       "      <td>277</td>\n",
       "      <td>...</td>\n",
       "      <td>302</td>\n",
       "      <td>446</td>\n",
       "      <td>552</td>\n",
       "      <td>582</td>\n",
       "      <td>489</td>\n",
       "      <td>458</td>\n",
       "      <td>395</td>\n",
       "      <td>219</td>\n",
       "      <td>256</td>\n",
       "      <td>6588</td>\n",
       "    </tr>\n",
       "    <tr>\n",
       "      <th>79</th>\n",
       "      <td>79</td>\n",
       "      <td>2</td>\n",
       "      <td>Victoria</td>\n",
       "      <td>29399</td>\n",
       "      <td>Unincorporated Vic</td>\n",
       "      <td>18</td>\n",
       "      <td>27</td>\n",
       "      <td>60</td>\n",
       "      <td>38</td>\n",
       "      <td>56</td>\n",
       "      <td>...</td>\n",
       "      <td>58</td>\n",
       "      <td>60</td>\n",
       "      <td>27</td>\n",
       "      <td>27</td>\n",
       "      <td>57</td>\n",
       "      <td>31</td>\n",
       "      <td>25</td>\n",
       "      <td>13</td>\n",
       "      <td>13</td>\n",
       "      <td>894</td>\n",
       "    </tr>\n",
       "  </tbody>\n",
       "</table>\n",
       "<p>80 rows × 24 columns</p>\n",
       "</div>"
      ],
      "text/plain": [
       "    Unnamed: 0  S/T code  S/T name  LGA code            LGA name    0-4  \\\n",
       "0            0         2  Victoria     20110          Alpine (S)    554   \n",
       "1            1         2  Victoria     20260         Ararat (RC)    598   \n",
       "2            2         2  Victoria     20570        Ballarat (C)   6995   \n",
       "3            3         2  Victoria     20660         Banyule (C)   7815   \n",
       "4            4         2  Victoria     20740      Bass Coast (S)   1886   \n",
       "..         ...       ...       ...       ...                 ...    ...   \n",
       "75          75         2  Victoria     27260         Wyndham (C)  26445   \n",
       "76          76         2  Victoria     27350           Yarra (C)   4515   \n",
       "77          77         2  Victoria     27450    Yarra Ranges (S)   9650   \n",
       "78          78         2  Victoria     27630    Yarriambiack (S)    319   \n",
       "79          79         2  Victoria     29399  Unincorporated Vic     18   \n",
       "\n",
       "      5–9  10–14  15–19  20–24  ...  45–49  50–54  55–59  60–64  65–69  70–74  \\\n",
       "0     668    847    692    549  ...    949    847   1066   1076    956    935   \n",
       "1     626    679    611    546  ...    736    870    849    919    851    733   \n",
       "2    7201   7267   6674   8053  ...   6914   6423   6759   6350   5692   5140   \n",
       "3    8379   7837   6900   7831  ...   9043   8224   7719   7386   6601   6061   \n",
       "4    2125   2086   1887   1368  ...   2162   2261   2732   3105   3228   2901   \n",
       "..    ...    ...    ...    ...  ...    ...    ...    ...    ...    ...    ...   \n",
       "75  26080  20257  15712  16462  ...  17127  13799  12263  10603   8273   6221   \n",
       "76   3497   3059   2993   7520  ...   5581   5317   4884   4545   3577   3200   \n",
       "77  10302  10207   9766   9857  ...  11382  10828  10565   9734   8315   7318   \n",
       "78    336    449    357    277  ...    302    446    552    582    489    458   \n",
       "79     27     60     38     56  ...     58     60     27     27     57     31   \n",
       "\n",
       "    75–79  80–84  85 and over  Total persons  \n",
       "0     579    404          355          12973  \n",
       "1     547    359          378          11965  \n",
       "2    3513   2425         2540         111361  \n",
       "3    4551   3134         3358         131940  \n",
       "4    1967   1175         1213          37445  \n",
       "..    ...    ...          ...            ...  \n",
       "75   3868   2333         1925         283294  \n",
       "76   2137   1401         1385         103125  \n",
       "77   4941   3063         2943         159955  \n",
       "78    395    219          256           6588  \n",
       "79     25     13           13            894  \n",
       "\n",
       "[80 rows x 24 columns]"
      ]
     },
     "execution_count": 32,
     "metadata": {},
     "output_type": "execute_result"
    }
   ],
   "source": [
    "LGA_age_df\n"
   ]
  },
  {
   "cell_type": "code",
   "execution_count": 33,
   "metadata": {},
   "outputs": [
    {
     "data": {
      "text/html": [
       "<div>\n",
       "<style scoped>\n",
       "    .dataframe tbody tr th:only-of-type {\n",
       "        vertical-align: middle;\n",
       "    }\n",
       "\n",
       "    .dataframe tbody tr th {\n",
       "        vertical-align: top;\n",
       "    }\n",
       "\n",
       "    .dataframe thead th {\n",
       "        text-align: right;\n",
       "    }\n",
       "</style>\n",
       "<table border=\"1\" class=\"dataframe\">\n",
       "  <thead>\n",
       "    <tr style=\"text-align: right;\">\n",
       "      <th></th>\n",
       "      <th>LGA name</th>\n",
       "      <th>20–24</th>\n",
       "    </tr>\n",
       "  </thead>\n",
       "  <tbody>\n",
       "    <tr>\n",
       "      <th>0</th>\n",
       "      <td>Melbourne (C)</td>\n",
       "      <td>38434</td>\n",
       "    </tr>\n",
       "    <tr>\n",
       "      <th>1</th>\n",
       "      <td>Casey (C)</td>\n",
       "      <td>25292</td>\n",
       "    </tr>\n",
       "    <tr>\n",
       "      <th>2</th>\n",
       "      <td>Monash (C)</td>\n",
       "      <td>23162</td>\n",
       "    </tr>\n",
       "  </tbody>\n",
       "</table>\n",
       "</div>"
      ],
      "text/plain": [
       "        LGA name  20–24\n",
       "0  Melbourne (C)  38434\n",
       "1      Casey (C)  25292\n",
       "2     Monash (C)  23162"
      ]
     },
     "execution_count": 33,
     "metadata": {},
     "output_type": "execute_result"
    }
   ],
   "source": [
    "early_twenties_df = LGA_age_df[['LGA name', '20–24']]\n",
    "twenties = early_twenties_df.sort_values('20–24', ascending=False).reset_index(drop = True).head(3)\n",
    "twenties"
   ]
  },
  {
   "cell_type": "code",
   "execution_count": 34,
   "metadata": {},
   "outputs": [
    {
     "data": {
      "image/png": "[encoded data removed]",
      "text/plain": [
       "<Figure size 432x288 with 1 Axes>"
      ]
     },
     "metadata": {
      "needs_background": "light"
     },
     "output_type": "display_data"
    }
   ],
   "source": [
    "twentiesplot = twenties.plot(x=\"LGA name\", kind=\"bar\")"
   ]
  },
  {
   "cell_type": "code",
   "execution_count": 35,
   "metadata": {},
   "outputs": [
    {
     "data": {
      "text/html": [
       "<div>\n",
       "<style scoped>\n",
       "    .dataframe tbody tr th:only-of-type {\n",
       "        vertical-align: middle;\n",
       "    }\n",
       "\n",
       "    .dataframe tbody tr th {\n",
       "        vertical-align: top;\n",
       "    }\n",
       "\n",
       "    .dataframe thead th {\n",
       "        text-align: right;\n",
       "    }\n",
       "</style>\n",
       "<table border=\"1\" class=\"dataframe\">\n",
       "  <thead>\n",
       "    <tr style=\"text-align: right;\">\n",
       "      <th></th>\n",
       "      <th>LGA name</th>\n",
       "      <th>25–29</th>\n",
       "    </tr>\n",
       "  </thead>\n",
       "  <tbody>\n",
       "    <tr>\n",
       "      <th>0</th>\n",
       "      <td>Melbourne (C)</td>\n",
       "      <td>38546</td>\n",
       "    </tr>\n",
       "    <tr>\n",
       "      <th>1</th>\n",
       "      <td>Casey (C)</td>\n",
       "      <td>27899</td>\n",
       "    </tr>\n",
       "    <tr>\n",
       "      <th>2</th>\n",
       "      <td>Moreland (C)</td>\n",
       "      <td>21023</td>\n",
       "    </tr>\n",
       "  </tbody>\n",
       "</table>\n",
       "</div>"
      ],
      "text/plain": [
       "        LGA name  25–29\n",
       "0  Melbourne (C)  38546\n",
       "1      Casey (C)  27899\n",
       "2   Moreland (C)  21023"
      ]
     },
     "execution_count": 35,
     "metadata": {},
     "output_type": "execute_result"
    }
   ],
   "source": [
    "late_twenties_df = LGA_age_df[['LGA name','25–29']]\n",
    "midtwenties = late_twenties_df.sort_values('25–29', ascending=False).reset_index(drop = True).head(3)\n",
    "midtwenties"
   ]
  },
  {
   "cell_type": "code",
   "execution_count": 36,
   "metadata": {},
   "outputs": [
    {
     "data": {
      "image/png": "[encoded data removed]",
      "text/plain": [
       "<Figure size 432x288 with 1 Axes>"
      ]
     },
     "metadata": {
      "needs_background": "light"
     },
     "output_type": "display_data"
    }
   ],
   "source": [
    "midtwentiesplot = midtwenties.plot(x=\"LGA name\", kind=\"bar\")"
   ]
  },
  {
   "cell_type": "code",
   "execution_count": null,
   "metadata": {},
   "outputs": [],
   "source": []
  },
  {
   "cell_type": "code",
   "execution_count": 37,
   "metadata": {},
   "outputs": [],
   "source": [
    "#  df16 = pd.merge(midtwenties,twentiesplot , on='LGA name')\n",
    "# # df16 = pd.merge(df16, df14, on='Zone')\n",
    "# # df16 = pd.merge(df16, df15, on='Zone')\n",
    "\n",
    "# fig, ax = plt.subplots(figsize=(50, 20))\n",
    "\n",
    "# # #https://xkcd.com/color/rgb/\n",
    "#  #colors2 = ['#448ee4', '#a9f971','#ceb301','#ffb7ce']\n",
    "# colors2=['#448ee4', '#a9f971']\n",
    "\n",
    "\n",
    "# # #For all values to be displayed, even though these scales are different, the log scale is used.\n",
    "#  df16.plot.bar(x='LGA name', logy=True, color=colors2, ax=ax,width=0.5, align = 'center'); \n"
   ]
  },
  {
   "cell_type": "code",
   "execution_count": null,
   "metadata": {},
   "outputs": [],
   "source": []
  },
  {
   "cell_type": "markdown",
   "metadata": {},
   "source": []
  },
  {
   "cell_type": "code",
   "execution_count": 38,
   "metadata": {},
   "outputs": [
    {
     "data": {
      "text/html": [
       "<div>\n",
       "<style scoped>\n",
       "    .dataframe tbody tr th:only-of-type {\n",
       "        vertical-align: middle;\n",
       "    }\n",
       "\n",
       "    .dataframe tbody tr th {\n",
       "        vertical-align: top;\n",
       "    }\n",
       "\n",
       "    .dataframe thead th {\n",
       "        text-align: right;\n",
       "    }\n",
       "</style>\n",
       "<table border=\"1\" class=\"dataframe\">\n",
       "  <thead>\n",
       "    <tr style=\"text-align: right;\">\n",
       "      <th></th>\n",
       "      <th>LGA name</th>\n",
       "      <th>30–34</th>\n",
       "    </tr>\n",
       "  </thead>\n",
       "  <tbody>\n",
       "    <tr>\n",
       "      <th>0</th>\n",
       "      <td>Casey (C)</td>\n",
       "      <td>29838</td>\n",
       "    </tr>\n",
       "    <tr>\n",
       "      <th>1</th>\n",
       "      <td>Wyndham (C)</td>\n",
       "      <td>28415</td>\n",
       "    </tr>\n",
       "    <tr>\n",
       "      <th>2</th>\n",
       "      <td>Melbourne (C)</td>\n",
       "      <td>25834</td>\n",
       "    </tr>\n",
       "  </tbody>\n",
       "</table>\n",
       "</div>"
      ],
      "text/plain": [
       "        LGA name  30–34\n",
       "0      Casey (C)  29838\n",
       "1    Wyndham (C)  28415\n",
       "2  Melbourne (C)  25834"
      ]
     },
     "execution_count": 38,
     "metadata": {},
     "output_type": "execute_result"
    }
   ],
   "source": [
    "early_thirties_df = LGA_age_df[['LGA name','30–34']]\n",
    "thirties = early_thirties_df.sort_values('30–34', ascending=False).reset_index(drop = True).head(3)\n",
    "thirties"
   ]
  },
  {
   "cell_type": "code",
   "execution_count": 28,
   "metadata": {},
   "outputs": [
    {
     "data": {
      "image/png": "[encoded data removed]",
      "text/plain": [
       "<Figure size 432x288 with 1 Axes>"
      ]
     },
     "metadata": {
      "needs_background": "light"
     },
     "output_type": "display_data"
    }
   ],
   "source": [
    "thirtiesplot = thirties.plot(x=\"LGA name\", kind=\"bar\")"
   ]
  },
  {
   "cell_type": "code",
   "execution_count": 39,
   "metadata": {},
   "outputs": [
    {
     "data": {
      "text/html": [
       "<div>\n",
       "<style scoped>\n",
       "    .dataframe tbody tr th:only-of-type {\n",
       "        vertical-align: middle;\n",
       "    }\n",
       "\n",
       "    .dataframe tbody tr th {\n",
       "        vertical-align: top;\n",
       "    }\n",
       "\n",
       "    .dataframe thead th {\n",
       "        text-align: right;\n",
       "    }\n",
       "</style>\n",
       "<table border=\"1\" class=\"dataframe\">\n",
       "  <thead>\n",
       "    <tr style=\"text-align: right;\">\n",
       "      <th></th>\n",
       "      <th>LGA name</th>\n",
       "      <th>35–39</th>\n",
       "    </tr>\n",
       "  </thead>\n",
       "  <tbody>\n",
       "    <tr>\n",
       "      <th>0</th>\n",
       "      <td>Casey (C)</td>\n",
       "      <td>31114</td>\n",
       "    </tr>\n",
       "    <tr>\n",
       "      <th>1</th>\n",
       "      <td>Wyndham (C)</td>\n",
       "      <td>30754</td>\n",
       "    </tr>\n",
       "    <tr>\n",
       "      <th>2</th>\n",
       "      <td>Whittlesea (C)</td>\n",
       "      <td>20971</td>\n",
       "    </tr>\n",
       "  </tbody>\n",
       "</table>\n",
       "</div>"
      ],
      "text/plain": [
       "         LGA name  35–39\n",
       "0       Casey (C)  31114\n",
       "1     Wyndham (C)  30754\n",
       "2  Whittlesea (C)  20971"
      ]
     },
     "execution_count": 39,
     "metadata": {},
     "output_type": "execute_result"
    }
   ],
   "source": [
    "late_thirties_df = LGA_age_df[['LGA name','35–39']]\n",
    "mid_thirties = late_thirties_df.sort_values('35–39', ascending=False).reset_index(drop = True).head(3)\n",
    "mid_thirties"
   ]
  },
  {
   "cell_type": "code",
   "execution_count": 40,
   "metadata": {},
   "outputs": [
    {
     "data": {
      "image/png": "[encoded data removed]",
      "text/plain": [
       "<Figure size 432x288 with 1 Axes>"
      ]
     },
     "metadata": {
      "needs_background": "light"
     },
     "output_type": "display_data"
    }
   ],
   "source": [
    "mid_thirtiesplot = mid_thirties.plot(x=\"LGA name\", kind=\"bar\")"
   ]
  },
  {
   "cell_type": "code",
   "execution_count": 41,
   "metadata": {},
   "outputs": [
    {
     "data": {
      "text/html": [
       "<div>\n",
       "<style scoped>\n",
       "    .dataframe tbody tr th:only-of-type {\n",
       "        vertical-align: middle;\n",
       "    }\n",
       "\n",
       "    .dataframe tbody tr th {\n",
       "        vertical-align: top;\n",
       "    }\n",
       "\n",
       "    .dataframe thead th {\n",
       "        text-align: right;\n",
       "    }\n",
       "</style>\n",
       "<table border=\"1\" class=\"dataframe\">\n",
       "  <thead>\n",
       "    <tr style=\"text-align: right;\">\n",
       "      <th></th>\n",
       "      <th>LGA name</th>\n",
       "      <th>40–44</th>\n",
       "    </tr>\n",
       "  </thead>\n",
       "  <tbody>\n",
       "    <tr>\n",
       "      <th>0</th>\n",
       "      <td>Casey (C)</td>\n",
       "      <td>25398</td>\n",
       "    </tr>\n",
       "    <tr>\n",
       "      <th>1</th>\n",
       "      <td>Wyndham (C)</td>\n",
       "      <td>21903</td>\n",
       "    </tr>\n",
       "    <tr>\n",
       "      <th>2</th>\n",
       "      <td>Whittlesea (C)</td>\n",
       "      <td>16445</td>\n",
       "    </tr>\n",
       "  </tbody>\n",
       "</table>\n",
       "</div>"
      ],
      "text/plain": [
       "         LGA name  40–44\n",
       "0       Casey (C)  25398\n",
       "1     Wyndham (C)  21903\n",
       "2  Whittlesea (C)  16445"
      ]
     },
     "execution_count": 41,
     "metadata": {},
     "output_type": "execute_result"
    }
   ],
   "source": [
    "early_forties_df = LGA_age_df[['LGA name','40–44']]\n",
    "forties = early_forties_df.sort_values('40–44', ascending=False).reset_index(drop = True).head(3)\n",
    "forties"
   ]
  },
  {
   "cell_type": "code",
   "execution_count": 42,
   "metadata": {},
   "outputs": [
    {
     "data": {
      "image/png": "[encoded data removed]",
      "text/plain": [
       "<Figure size 432x288 with 1 Axes>"
      ]
     },
     "metadata": {
      "needs_background": "light"
     },
     "output_type": "display_data"
    }
   ],
   "source": [
    "fortiesplot = forties.plot(x=\"LGA name\", kind=\"bar\")"
   ]
  },
  {
   "cell_type": "code",
   "execution_count": 43,
   "metadata": {},
   "outputs": [
    {
     "data": {
      "text/html": [
       "<div>\n",
       "<style scoped>\n",
       "    .dataframe tbody tr th:only-of-type {\n",
       "        vertical-align: middle;\n",
       "    }\n",
       "\n",
       "    .dataframe tbody tr th {\n",
       "        vertical-align: top;\n",
       "    }\n",
       "\n",
       "    .dataframe thead th {\n",
       "        text-align: right;\n",
       "    }\n",
       "</style>\n",
       "<table border=\"1\" class=\"dataframe\">\n",
       "  <thead>\n",
       "    <tr style=\"text-align: right;\">\n",
       "      <th></th>\n",
       "      <th>LGA name</th>\n",
       "      <th>45–49</th>\n",
       "    </tr>\n",
       "  </thead>\n",
       "  <tbody>\n",
       "    <tr>\n",
       "      <th>0</th>\n",
       "      <td>Casey (C)</td>\n",
       "      <td>23674</td>\n",
       "    </tr>\n",
       "    <tr>\n",
       "      <th>1</th>\n",
       "      <td>Wyndham (C)</td>\n",
       "      <td>17127</td>\n",
       "    </tr>\n",
       "    <tr>\n",
       "      <th>2</th>\n",
       "      <td>Greater Geelong (C)</td>\n",
       "      <td>16944</td>\n",
       "    </tr>\n",
       "  </tbody>\n",
       "</table>\n",
       "</div>"
      ],
      "text/plain": [
       "              LGA name  45–49\n",
       "0            Casey (C)  23674\n",
       "1          Wyndham (C)  17127\n",
       "2  Greater Geelong (C)  16944"
      ]
     },
     "execution_count": 43,
     "metadata": {},
     "output_type": "execute_result"
    }
   ],
   "source": [
    "late_forties_df = LGA_age_df[['LGA name','45–49']]\n",
    "midforties = late_forties_df.sort_values('45–49', ascending=False).reset_index(drop = True).head(3)\n",
    "midforties"
   ]
  },
  {
   "cell_type": "code",
   "execution_count": 44,
   "metadata": {},
   "outputs": [
    {
     "data": {
      "image/png": "[encoded data removed]",
      "text/plain": [
       "<Figure size 432x288 with 1 Axes>"
      ]
     },
     "metadata": {
      "needs_background": "light"
     },
     "output_type": "display_data"
    }
   ],
   "source": [
    "midfortiesplot = midforties.plot(x=\"LGA name\", kind=\"bar\")"
   ]
  },
  {
   "cell_type": "code",
   "execution_count": 45,
   "metadata": {},
   "outputs": [],
   "source": [
    "# Twenties = twenties['20–24']\n",
    "# Late_Twenties = midtwenties['25–29']\n",
    "# Thirties = thirties['30–34']\n",
    "# Late_Thirties = mid_thirties['35–39']\n",
    "# Forties = forties['40–44']\n",
    "# Late_Forties = midforties['45–49']\n",
    "\n",
    "# age_range = ['20–24','25–29', '30–34', '35–39', '40–44', '45–49']\n",
    "# age_population = [Twenties, Late_Twenties, Thirties, Late_Thirties, Forties, Late_Forties ]\n",
    "\n",
    "# LGA_age_df = pd.DataFrame({'age_range': age_range,\n",
    "#                    'age_population': age_population})\n",
    "# ax = LGA_age_df.plot.bar(rot=0)\n",
    "\n",
    "# plt.show()"
   ]
  },
  {
   "cell_type": "code",
   "execution_count": null,
   "metadata": {},
   "outputs": [],
   "source": []
  },
  {
   "cell_type": "code",
   "execution_count": null,
   "metadata": {},
   "outputs": [],
   "source": []
  }
 ],
 "metadata": {
  "anaconda-cloud": {},
  "interpreter": {
   "hash": "ed03d28f1b0db420172176dd435d23312d34ea6392a26e41411366793a389e64"
  },
  "kernel_info": {
   "name": "python3"
  },
  "kernelspec": {
   "display_name": "Python 3",
   "language": "python",
   "name": "python3"
  },
  "language_info": {
   "codemirror_mode": {
    "name": "ipython",
    "version": 3
   },
   "file_extension": ".py",
   "mimetype": "text/x-python",
   "name": "python",
   "nbconvert_exporter": "python",
   "pygments_lexer": "ipython3",
   "version": "3.8.8"
  },
  "latex_envs": {
   "LaTeX_envs_menu_present": true,
   "autoclose": false,
   "autocomplete": true,
   "bibliofile": "biblio.bib",
   "cite_by": "apalike",
   "current_citInitial": 1,
   "eqLabelWithNumbers": true,
   "eqNumInitial": 1,
   "hotkeys": {
    "equation": "Ctrl-E",
    "itemize": "Ctrl-I"
   },
   "labels_anchors": false,
   "latex_user_defs": false,
   "report_style_numbering": false,
   "user_envs_cfg": false
  },
  "nteract": {
   "version": "0.2.0"
  }
 },
 "nbformat": 4,
 "nbformat_minor": 2
}
